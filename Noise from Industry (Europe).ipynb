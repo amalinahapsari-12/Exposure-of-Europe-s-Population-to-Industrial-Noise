{
 "cells": [
  {
   "cell_type": "code",
   "execution_count": 20,
   "id": "938d8ddc-a4d3-4bd3-bbec-3dd6de82844c",
   "metadata": {},
   "outputs": [],
   "source": [
    "import pandas as pd\n",
    "import plotly.express as px\n",
    "import plotly.graph_objects as go\n",
    "\n",
    "# --- Load data ---\n",
    "df_country = pd.read_csv(\"noise_exposure_country_level.csv\")\n",
    "\n",
    "# Ensure numeric\n",
    "df_country[\"Population\"] = pd.to_numeric(df_country[\"Population\"], errors=\"coerce\")\n",
    "df_country[\"Total_Lden\"] = pd.to_numeric(df_country[\"Total_Lden\"], errors=\"coerce\")\n",
    "df_country[\"Total_Lnight\"] = pd.to_numeric(df_country[\"Total_Lnight\"], errors=\"coerce\")\n",
    "\n",
    "# --- Global style settings ---\n",
    "font_family = \"Arial\"\n",
    "title_x = 0.5   # center titles\n",
    "template = \"plotly_white\"\n"
   ]
  },
  {
   "cell_type": "code",
   "execution_count": 21,
   "id": "b2e277a3-42d7-4719-9367-1523d628623f",
   "metadata": {},
   "outputs": [],
   "source": [
    "# Format values as whole numbers for annotation\n",
    "text_values = (\n",
    "    heatmap_data.fillna(0)     # replace NaN with 0\n",
    "    .round(0)                  # round to whole numbers\n",
    "    .astype(int)               # convert to integers\n",
    "    .astype(str) + \"%\"         # add percentage sign\n",
    ")\n"
   ]
  },
  {
   "cell_type": "code",
   "execution_count": 22,
   "id": "059e38fa-a5ba-4708-8eba-6d6de7011cb1",
   "metadata": {},
   "outputs": [
    {
     "name": "stderr",
     "output_type": "stream",
     "text": [
      "C:\\Users\\amali\\AppData\\Local\\Temp\\ipykernel_19768\\3218926446.py:9: FutureWarning:\n",
      "\n",
      "DataFrame.applymap has been deprecated. Use DataFrame.map instead.\n",
      "\n"
     ]
    }
   ],
   "source": [
    "# Format values as whole numbers for annotation, but hide zeros\n",
    "text_values = (\n",
    "    heatmap_data.fillna(0)        # replace NaN with 0\n",
    "    .round(0)                     # round to whole numbers\n",
    "    .astype(int)                  # convert to integers\n",
    ")\n",
    "\n",
    "# Replace zeros with empty strings, others with \"xx%\"\n",
    "text_values = text_values.applymap(lambda x: \"\" if x == 0 else f\"{x}%\")\n"
   ]
  },
  {
   "cell_type": "markdown",
   "id": "b87d349a-5240-4be4-80c3-b9f102588c0e",
   "metadata": {},
   "source": [
    "### Visualization 1: % of population exposed to Lden > 55 dB (by Country)\n",
    "“This chart shows the share of each country’s population regularly exposed to high daytime noise (above 55 dB). It highlights where noise is not just widespread but disproportionately affects people’s daily lives.”"
   ]
  },
  {
   "cell_type": "code",
   "execution_count": 28,
   "id": "5b9494bf-bbab-4100-89b3-090086a16b8f",
   "metadata": {},
   "outputs": [
    {
     "data": {
      "application/vnd.plotly.v1+json": {
       "config": {
        "plotlyServerURL": "https://plot.ly"
       },
       "data": [
        {
         "coloraxis": "coloraxis",
         "geo": "geo",
         "hovertemplate": "<b>%{hovertext}</b><br><br>Country=%{location}<br>% of Population=%{z}<extra></extra>",
         "hovertext": [
          "Austria",
          "Belgium",
          "Bulgaria",
          "Croatia",
          "Cyprus",
          "Czech Republic",
          "Denmark",
          "Estonia",
          "Finland",
          "France",
          "Germany",
          "Greece",
          "Hungary",
          "Iceland",
          "Ireland",
          "Italy",
          "Latvia",
          "Liechtenstein",
          "Lithuania",
          "Luxembourg",
          "Malta",
          "Netherlands",
          "Norway",
          "Poland",
          "Portugal",
          "Romania",
          "Slovakia",
          "Slovenia",
          "Spain",
          "Sweden",
          "Switzerland",
          "Turkey"
         ],
         "locationmode": "country names",
         "locations": [
          "Austria",
          "Belgium",
          "Bulgaria",
          "Croatia",
          "Cyprus",
          "Czech Republic",
          "Denmark",
          "Estonia",
          "Finland",
          "France",
          "Germany",
          "Greece",
          "Hungary",
          "Iceland",
          "Ireland",
          "Italy",
          "Latvia",
          "Liechtenstein",
          "Lithuania",
          "Luxembourg",
          "Malta",
          "Netherlands",
          "Norway",
          "Poland",
          "Portugal",
          "Romania",
          "Slovakia",
          "Slovenia",
          "Spain",
          "Sweden",
          "Switzerland",
          "Turkey"
         ],
         "name": "",
         "type": "choropleth",
         "z": {
          "_inputArray": {
           "0": 0.19,
           "1": 1.44,
           "10": 0.36,
           "11": null,
           "12": 0,
           "13": null,
           "14": 0.25,
           "15": 3.01,
           "16": 10.33,
           "17": null,
           "18": 0.8,
           "19": 2.99,
           "2": 0,
           "20": 0,
           "21": 0.61,
           "22": 0,
           "23": 0.33,
           "24": 0.63,
           "25": 0.07,
           "26": 0,
           "27": 0,
           "28": 0.31,
           "29": 0,
           "3": 0.07,
           "30": 0,
           "31": null,
           "4": 13.99,
           "5": 0.3,
           "6": 0.02,
           "7": 4.46,
           "8": 0,
           "9": 0.71,
           "bdata": "UrgehetRyD8K16NwPQr3PwAAAAAAAAAA7FG4HoXrsT97FK5H4forQDMzMzMzM9M/exSuR+F6lD/Xo3A9CtcRQAAAAAAAAAAAuB6F61G45j8K16NwPQrXPwAAAAAAAPh/AAAAAAAAAAAAAAAAAAD4fwAAAAAAANA/FK5H4XoUCEApXI/C9agkQAAAAAAAAPh/mpmZmZmZ6T/sUbgehesHQAAAAAAAAAAAhetRuB6F4z8AAAAAAAAAAB+F61G4HtU/KVyPwvUo5D/sUbgeheuxPwAAAAAAAAAAAAAAAAAAAADXo3A9CtfTPwAAAAAAAAAAAAAAAAAAAAAAAAAAAAD4fw==",
           "dtype": "f8",
           "shape": "32"
          },
          "bdata": "UrgehetRyD8K16NwPQr3PwAAAAAAAAAA7FG4HoXrsT97FK5H4forQDMzMzMzM9M/exSuR+F6lD/Xo3A9CtcRQAAAAAAAAAAAuB6F61G45j8K16NwPQrXPwAAAAAAAPh/AAAAAAAAAAAAAAAAAAD4fwAAAAAAANA/FK5H4XoUCEApXI/C9agkQAAAAAAAAPh/mpmZmZmZ6T/sUbgehesHQAAAAAAAAAAAhetRuB6F4z8AAAAAAAAAAB+F61G4HtU/KVyPwvUo5D/sUbgeheuxPwAAAAAAAAAAAAAAAAAAAADXo3A9CtfTPwAAAAAAAAAAAAAAAAAAAAAAAAAAAAD4fw==",
          "dtype": "f8"
         }
        }
       ],
       "layout": {
        "autosize": true,
        "coloraxis": {
         "colorbar": {
          "title": {
           "text": "% of Population"
          }
         },
         "colorscale": [
          [
           0,
           "rgb(255,245,240)"
          ],
          [
           0.125,
           "rgb(254,224,210)"
          ],
          [
           0.25,
           "rgb(252,187,161)"
          ],
          [
           0.375,
           "rgb(252,146,114)"
          ],
          [
           0.5,
           "rgb(251,106,74)"
          ],
          [
           0.625,
           "rgb(239,59,44)"
          ],
          [
           0.75,
           "rgb(203,24,29)"
          ],
          [
           0.875,
           "rgb(165,15,21)"
          ],
          [
           1,
           "rgb(103,0,13)"
          ]
         ]
        },
        "dragmode": "pan",
        "geo": {
         "center": {
          "lat": 50.37210874758707,
          "lon": 14.854479247564068
         },
         "domain": {
          "x": [
           0,
           1
          ],
          "y": [
           0,
           1
          ]
         },
         "projection": {
          "rotation": {
           "lon": 14.854479247564068
          },
          "scale": 13.928809012738009
         }
        },
        "legend": {
         "tracegroupgap": 0
        },
        "template": {
         "data": {
          "bar": [
           {
            "error_x": {
             "color": "#2a3f5f"
            },
            "error_y": {
             "color": "#2a3f5f"
            },
            "marker": {
             "line": {
              "color": "#E5ECF6",
              "width": 0.5
             },
             "pattern": {
              "fillmode": "overlay",
              "size": 10,
              "solidity": 0.2
             }
            },
            "type": "bar"
           }
          ],
          "barpolar": [
           {
            "marker": {
             "line": {
              "color": "#E5ECF6",
              "width": 0.5
             },
             "pattern": {
              "fillmode": "overlay",
              "size": 10,
              "solidity": 0.2
             }
            },
            "type": "barpolar"
           }
          ],
          "carpet": [
           {
            "aaxis": {
             "endlinecolor": "#2a3f5f",
             "gridcolor": "white",
             "linecolor": "white",
             "minorgridcolor": "white",
             "startlinecolor": "#2a3f5f"
            },
            "baxis": {
             "endlinecolor": "#2a3f5f",
             "gridcolor": "white",
             "linecolor": "white",
             "minorgridcolor": "white",
             "startlinecolor": "#2a3f5f"
            },
            "type": "carpet"
           }
          ],
          "choropleth": [
           {
            "colorbar": {
             "outlinewidth": 0,
             "ticks": ""
            },
            "type": "choropleth"
           }
          ],
          "contour": [
           {
            "colorbar": {
             "outlinewidth": 0,
             "ticks": ""
            },
            "colorscale": [
             [
              0,
              "#0d0887"
             ],
             [
              0.1111111111111111,
              "#46039f"
             ],
             [
              0.2222222222222222,
              "#7201a8"
             ],
             [
              0.3333333333333333,
              "#9c179e"
             ],
             [
              0.4444444444444444,
              "#bd3786"
             ],
             [
              0.5555555555555556,
              "#d8576b"
             ],
             [
              0.6666666666666666,
              "#ed7953"
             ],
             [
              0.7777777777777778,
              "#fb9f3a"
             ],
             [
              0.8888888888888888,
              "#fdca26"
             ],
             [
              1,
              "#f0f921"
             ]
            ],
            "type": "contour"
           }
          ],
          "contourcarpet": [
           {
            "colorbar": {
             "outlinewidth": 0,
             "ticks": ""
            },
            "type": "contourcarpet"
           }
          ],
          "heatmap": [
           {
            "colorbar": {
             "outlinewidth": 0,
             "ticks": ""
            },
            "colorscale": [
             [
              0,
              "#0d0887"
             ],
             [
              0.1111111111111111,
              "#46039f"
             ],
             [
              0.2222222222222222,
              "#7201a8"
             ],
             [
              0.3333333333333333,
              "#9c179e"
             ],
             [
              0.4444444444444444,
              "#bd3786"
             ],
             [
              0.5555555555555556,
              "#d8576b"
             ],
             [
              0.6666666666666666,
              "#ed7953"
             ],
             [
              0.7777777777777778,
              "#fb9f3a"
             ],
             [
              0.8888888888888888,
              "#fdca26"
             ],
             [
              1,
              "#f0f921"
             ]
            ],
            "type": "heatmap"
           }
          ],
          "histogram": [
           {
            "marker": {
             "pattern": {
              "fillmode": "overlay",
              "size": 10,
              "solidity": 0.2
             }
            },
            "type": "histogram"
           }
          ],
          "histogram2d": [
           {
            "colorbar": {
             "outlinewidth": 0,
             "ticks": ""
            },
            "colorscale": [
             [
              0,
              "#0d0887"
             ],
             [
              0.1111111111111111,
              "#46039f"
             ],
             [
              0.2222222222222222,
              "#7201a8"
             ],
             [
              0.3333333333333333,
              "#9c179e"
             ],
             [
              0.4444444444444444,
              "#bd3786"
             ],
             [
              0.5555555555555556,
              "#d8576b"
             ],
             [
              0.6666666666666666,
              "#ed7953"
             ],
             [
              0.7777777777777778,
              "#fb9f3a"
             ],
             [
              0.8888888888888888,
              "#fdca26"
             ],
             [
              1,
              "#f0f921"
             ]
            ],
            "type": "histogram2d"
           }
          ],
          "histogram2dcontour": [
           {
            "colorbar": {
             "outlinewidth": 0,
             "ticks": ""
            },
            "colorscale": [
             [
              0,
              "#0d0887"
             ],
             [
              0.1111111111111111,
              "#46039f"
             ],
             [
              0.2222222222222222,
              "#7201a8"
             ],
             [
              0.3333333333333333,
              "#9c179e"
             ],
             [
              0.4444444444444444,
              "#bd3786"
             ],
             [
              0.5555555555555556,
              "#d8576b"
             ],
             [
              0.6666666666666666,
              "#ed7953"
             ],
             [
              0.7777777777777778,
              "#fb9f3a"
             ],
             [
              0.8888888888888888,
              "#fdca26"
             ],
             [
              1,
              "#f0f921"
             ]
            ],
            "type": "histogram2dcontour"
           }
          ],
          "mesh3d": [
           {
            "colorbar": {
             "outlinewidth": 0,
             "ticks": ""
            },
            "type": "mesh3d"
           }
          ],
          "parcoords": [
           {
            "line": {
             "colorbar": {
              "outlinewidth": 0,
              "ticks": ""
             }
            },
            "type": "parcoords"
           }
          ],
          "pie": [
           {
            "automargin": true,
            "type": "pie"
           }
          ],
          "scatter": [
           {
            "fillpattern": {
             "fillmode": "overlay",
             "size": 10,
             "solidity": 0.2
            },
            "type": "scatter"
           }
          ],
          "scatter3d": [
           {
            "line": {
             "colorbar": {
              "outlinewidth": 0,
              "ticks": ""
             }
            },
            "marker": {
             "colorbar": {
              "outlinewidth": 0,
              "ticks": ""
             }
            },
            "type": "scatter3d"
           }
          ],
          "scattercarpet": [
           {
            "marker": {
             "colorbar": {
              "outlinewidth": 0,
              "ticks": ""
             }
            },
            "type": "scattercarpet"
           }
          ],
          "scattergeo": [
           {
            "marker": {
             "colorbar": {
              "outlinewidth": 0,
              "ticks": ""
             }
            },
            "type": "scattergeo"
           }
          ],
          "scattergl": [
           {
            "marker": {
             "colorbar": {
              "outlinewidth": 0,
              "ticks": ""
             }
            },
            "type": "scattergl"
           }
          ],
          "scattermap": [
           {
            "marker": {
             "colorbar": {
              "outlinewidth": 0,
              "ticks": ""
             }
            },
            "type": "scattermap"
           }
          ],
          "scattermapbox": [
           {
            "marker": {
             "colorbar": {
              "outlinewidth": 0,
              "ticks": ""
             }
            },
            "type": "scattermapbox"
           }
          ],
          "scatterpolar": [
           {
            "marker": {
             "colorbar": {
              "outlinewidth": 0,
              "ticks": ""
             }
            },
            "type": "scatterpolar"
           }
          ],
          "scatterpolargl": [
           {
            "marker": {
             "colorbar": {
              "outlinewidth": 0,
              "ticks": ""
             }
            },
            "type": "scatterpolargl"
           }
          ],
          "scatterternary": [
           {
            "marker": {
             "colorbar": {
              "outlinewidth": 0,
              "ticks": ""
             }
            },
            "type": "scatterternary"
           }
          ],
          "surface": [
           {
            "colorbar": {
             "outlinewidth": 0,
             "ticks": ""
            },
            "colorscale": [
             [
              0,
              "#0d0887"
             ],
             [
              0.1111111111111111,
              "#46039f"
             ],
             [
              0.2222222222222222,
              "#7201a8"
             ],
             [
              0.3333333333333333,
              "#9c179e"
             ],
             [
              0.4444444444444444,
              "#bd3786"
             ],
             [
              0.5555555555555556,
              "#d8576b"
             ],
             [
              0.6666666666666666,
              "#ed7953"
             ],
             [
              0.7777777777777778,
              "#fb9f3a"
             ],
             [
              0.8888888888888888,
              "#fdca26"
             ],
             [
              1,
              "#f0f921"
             ]
            ],
            "type": "surface"
           }
          ],
          "table": [
           {
            "cells": {
             "fill": {
              "color": "#EBF0F8"
             },
             "line": {
              "color": "white"
             }
            },
            "header": {
             "fill": {
              "color": "#C8D4E3"
             },
             "line": {
              "color": "white"
             }
            },
            "type": "table"
           }
          ]
         },
         "layout": {
          "annotationdefaults": {
           "arrowcolor": "#2a3f5f",
           "arrowhead": 0,
           "arrowwidth": 1
          },
          "autotypenumbers": "strict",
          "coloraxis": {
           "colorbar": {
            "outlinewidth": 0,
            "ticks": ""
           }
          },
          "colorscale": {
           "diverging": [
            [
             0,
             "#8e0152"
            ],
            [
             0.1,
             "#c51b7d"
            ],
            [
             0.2,
             "#de77ae"
            ],
            [
             0.3,
             "#f1b6da"
            ],
            [
             0.4,
             "#fde0ef"
            ],
            [
             0.5,
             "#f7f7f7"
            ],
            [
             0.6,
             "#e6f5d0"
            ],
            [
             0.7,
             "#b8e186"
            ],
            [
             0.8,
             "#7fbc41"
            ],
            [
             0.9,
             "#4d9221"
            ],
            [
             1,
             "#276419"
            ]
           ],
           "sequential": [
            [
             0,
             "#0d0887"
            ],
            [
             0.1111111111111111,
             "#46039f"
            ],
            [
             0.2222222222222222,
             "#7201a8"
            ],
            [
             0.3333333333333333,
             "#9c179e"
            ],
            [
             0.4444444444444444,
             "#bd3786"
            ],
            [
             0.5555555555555556,
             "#d8576b"
            ],
            [
             0.6666666666666666,
             "#ed7953"
            ],
            [
             0.7777777777777778,
             "#fb9f3a"
            ],
            [
             0.8888888888888888,
             "#fdca26"
            ],
            [
             1,
             "#f0f921"
            ]
           ],
           "sequentialminus": [
            [
             0,
             "#0d0887"
            ],
            [
             0.1111111111111111,
             "#46039f"
            ],
            [
             0.2222222222222222,
             "#7201a8"
            ],
            [
             0.3333333333333333,
             "#9c179e"
            ],
            [
             0.4444444444444444,
             "#bd3786"
            ],
            [
             0.5555555555555556,
             "#d8576b"
            ],
            [
             0.6666666666666666,
             "#ed7953"
            ],
            [
             0.7777777777777778,
             "#fb9f3a"
            ],
            [
             0.8888888888888888,
             "#fdca26"
            ],
            [
             1,
             "#f0f921"
            ]
           ]
          },
          "colorway": [
           "#636efa",
           "#EF553B",
           "#00cc96",
           "#ab63fa",
           "#FFA15A",
           "#19d3f3",
           "#FF6692",
           "#B6E880",
           "#FF97FF",
           "#FECB52"
          ],
          "font": {
           "color": "#2a3f5f"
          },
          "geo": {
           "bgcolor": "white",
           "lakecolor": "white",
           "landcolor": "#E5ECF6",
           "showlakes": true,
           "showland": true,
           "subunitcolor": "white"
          },
          "hoverlabel": {
           "align": "left"
          },
          "hovermode": "closest",
          "mapbox": {
           "style": "light"
          },
          "paper_bgcolor": "white",
          "plot_bgcolor": "#E5ECF6",
          "polar": {
           "angularaxis": {
            "gridcolor": "white",
            "linecolor": "white",
            "ticks": ""
           },
           "bgcolor": "#E5ECF6",
           "radialaxis": {
            "gridcolor": "white",
            "linecolor": "white",
            "ticks": ""
           }
          },
          "scene": {
           "xaxis": {
            "backgroundcolor": "#E5ECF6",
            "gridcolor": "white",
            "gridwidth": 2,
            "linecolor": "white",
            "showbackground": true,
            "ticks": "",
            "zerolinecolor": "white"
           },
           "yaxis": {
            "backgroundcolor": "#E5ECF6",
            "gridcolor": "white",
            "gridwidth": 2,
            "linecolor": "white",
            "showbackground": true,
            "ticks": "",
            "zerolinecolor": "white"
           },
           "zaxis": {
            "backgroundcolor": "#E5ECF6",
            "gridcolor": "white",
            "gridwidth": 2,
            "linecolor": "white",
            "showbackground": true,
            "ticks": "",
            "zerolinecolor": "white"
           }
          },
          "shapedefaults": {
           "line": {
            "color": "#2a3f5f"
           }
          },
          "ternary": {
           "aaxis": {
            "gridcolor": "white",
            "linecolor": "white",
            "ticks": ""
           },
           "baxis": {
            "gridcolor": "white",
            "linecolor": "white",
            "ticks": ""
           },
           "bgcolor": "#E5ECF6",
           "caxis": {
            "gridcolor": "white",
            "linecolor": "white",
            "ticks": ""
           }
          },
          "title": {
           "x": 0.05
          },
          "xaxis": {
           "automargin": true,
           "gridcolor": "white",
           "linecolor": "white",
           "ticks": "",
           "title": {
            "standoff": 15
           },
           "zerolinecolor": "white",
           "zerolinewidth": 2
          },
          "yaxis": {
           "automargin": true,
           "gridcolor": "white",
           "linecolor": "white",
           "ticks": "",
           "title": {
            "standoff": 15
           },
           "zerolinecolor": "white",
           "zerolinewidth": 2
          }
         }
        },
        "title": {
         "font": {
          "size": 20
         },
         "text": "Share of Population Exposed to Lden > 55 dB (Daytime Noise)",
         "x": 0.5
        }
       }
      },
      "image/png": "[encoded data removed]"
     },
     "metadata": {},
     "output_type": "display_data"
    }
   ],
   "source": [
    "# ========================\n",
    "# 1. Choropleth map - % of population exposed\n",
    "# ========================\n",
    "fig1 = px.choropleth(\n",
    "    df_country,\n",
    "    locations=\"Country\",\n",
    "    locationmode=\"country names\",\n",
    "    color=\"Total_Lden_pct\",   # <-- fix here\n",
    "    hover_name=\"Country\",\n",
    "    color_continuous_scale=\"Reds\",\n",
    "    title=\"Share of Population Exposed to Lden > 55 dB (Daytime Noise)\",\n",
    "    labels={\"Total_Lden_pct\": \"% of Population\"}\n",
    ")\n",
    "\n",
    "fig1.update_layout(title_x=0.5, title_font=dict(size=20))\n",
    "\n",
    "# Save as high-resolution PNG\n",
    "fig1.write_image(\"viz1_percent_population_exposed.png\", scale=3, width=2000, height=1200)\n",
    "\n",
    "fig1.show()\n",
    "\n"
   ]
  },
  {
   "cell_type": "markdown",
   "id": "215b371b-9de9-4ebc-87ad-8feebd823f15",
   "metadata": {},
   "source": [
    "### Visualization 2: Absolute population exposed (Top 10 Countries)\n",
    "“Here we see the actual number of people exposed. Even if a smaller share of the population is affected, large countries can still contribute millions of people to the total noise burden.”"
   ]
  },
  {
   "cell_type": "code",
   "execution_count": 24,
   "id": "d521dd2e-456d-439f-8628-5d8a3c9adc8e",
   "metadata": {},
   "outputs": [
    {
     "data": {
      "application/vnd.plotly.v1+json": {
       "config": {
        "plotlyServerURL": "https://plot.ly"
       },
       "data": [
        {
         "hovertemplate": "Country=%{x}<br>Population Exposed=%{marker.color}<extra></extra>",
         "legendgroup": "",
         "marker": {
          "color": {
           "_inputArray": {
            "0": 433400,
            "1": 182400,
            "2": 92100,
            "3": 84700,
            "4": 63500,
            "5": 59500,
            "6": 58100,
            "7": 38100,
            "8": 32800,
            "9": 24100,
            "bdata": "+JwGAIDIAgDEZwEA3EoBAAz4AABs6AAA9OIAANSUAAAggAAAJF4AAA==",
            "dtype": "i4",
            "shape": "10"
           },
           "bdata": "+JwGAIDIAgDEZwEA3EoBAAz4AABs6AAA9OIAANSUAAAggAAAJF4AAA==",
           "dtype": "i4"
          },
          "coloraxis": "coloraxis",
          "pattern": {
           "shape": ""
          }
         },
         "name": "",
         "orientation": "v",
         "showlegend": false,
         "text": {
          "_inputArray": {
           "0": 433400,
           "1": 182400,
           "2": 92100,
           "3": 84700,
           "4": 63500,
           "5": 59500,
           "6": 58100,
           "7": 38100,
           "8": 32800,
           "9": 24100,
           "bdata": "AAAAAOBzGkEAAAAAAEQGQQAAAABAfPZAAAAAAMCt9EAAAAAAgAHvQAAAAACADe1AAAAAAIBe7EAAAAAAgJriQAAAAAAABOBAAAAAAACJ10A=",
           "dtype": "f8",
           "shape": "10"
          },
          "bdata": "AAAAAOBzGkEAAAAAAEQGQQAAAABAfPZAAAAAAMCt9EAAAAAAgAHvQAAAAACADe1AAAAAAIBe7EAAAAAAgJriQAAAAAAABOBAAAAAAACJ10A=",
          "dtype": "f8"
         },
         "textposition": "outside",
         "texttemplate": "%{text:,.0f}",
         "type": "bar",
         "x": [
          "Italy",
          "France",
          "Germany",
          "Cyprus",
          "Latvia",
          "Spain",
          "Netherlands",
          "Belgium",
          "Poland",
          "Estonia"
         ],
         "xaxis": "x",
         "y": {
          "_inputArray": {
           "0": 433400,
           "1": 182400,
           "2": 92100,
           "3": 84700,
           "4": 63500,
           "5": 59500,
           "6": 58100,
           "7": 38100,
           "8": 32800,
           "9": 24100,
           "bdata": "+JwGAIDIAgDEZwEA3EoBAAz4AABs6AAA9OIAANSUAAAggAAAJF4AAA==",
           "dtype": "i4",
           "shape": "10"
          },
          "bdata": "+JwGAIDIAgDEZwEA3EoBAAz4AABs6AAA9OIAANSUAAAggAAAJF4AAA==",
          "dtype": "i4"
         },
         "yaxis": "y"
        }
       ],
       "layout": {
        "autosize": true,
        "barmode": "relative",
        "coloraxis": {
         "colorbar": {
          "title": {
           "text": "Population Exposed"
          }
         },
         "colorscale": [
          [
           0,
           "rgb(255,247,236)"
          ],
          [
           0.125,
           "rgb(254,232,200)"
          ],
          [
           0.25,
           "rgb(253,212,158)"
          ],
          [
           0.375,
           "rgb(253,187,132)"
          ],
          [
           0.5,
           "rgb(252,141,89)"
          ],
          [
           0.625,
           "rgb(239,101,72)"
          ],
          [
           0.75,
           "rgb(215,48,31)"
          ],
          [
           0.875,
           "rgb(179,0,0)"
          ],
          [
           1,
           "rgb(127,0,0)"
          ]
         ]
        },
        "legend": {
         "tracegroupgap": 0
        },
        "template": {
         "data": {
          "bar": [
           {
            "error_x": {
             "color": "#2a3f5f"
            },
            "error_y": {
             "color": "#2a3f5f"
            },
            "marker": {
             "line": {
              "color": "white",
              "width": 0.5
             },
             "pattern": {
              "fillmode": "overlay",
              "size": 10,
              "solidity": 0.2
             }
            },
            "type": "bar"
           }
          ],
          "barpolar": [
           {
            "marker": {
             "line": {
              "color": "white",
              "width": 0.5
             },
             "pattern": {
              "fillmode": "overlay",
              "size": 10,
              "solidity": 0.2
             }
            },
            "type": "barpolar"
           }
          ],
          "carpet": [
           {
            "aaxis": {
             "endlinecolor": "#2a3f5f",
             "gridcolor": "#C8D4E3",
             "linecolor": "#C8D4E3",
             "minorgridcolor": "#C8D4E3",
             "startlinecolor": "#2a3f5f"
            },
            "baxis": {
             "endlinecolor": "#2a3f5f",
             "gridcolor": "#C8D4E3",
             "linecolor": "#C8D4E3",
             "minorgridcolor": "#C8D4E3",
             "startlinecolor": "#2a3f5f"
            },
            "type": "carpet"
           }
          ],
          "choropleth": [
           {
            "colorbar": {
             "outlinewidth": 0,
             "ticks": ""
            },
            "type": "choropleth"
           }
          ],
          "contour": [
           {
            "colorbar": {
             "outlinewidth": 0,
             "ticks": ""
            },
            "colorscale": [
             [
              0,
              "#0d0887"
             ],
             [
              0.1111111111111111,
              "#46039f"
             ],
             [
              0.2222222222222222,
              "#7201a8"
             ],
             [
              0.3333333333333333,
              "#9c179e"
             ],
             [
              0.4444444444444444,
              "#bd3786"
             ],
             [
              0.5555555555555556,
              "#d8576b"
             ],
             [
              0.6666666666666666,
              "#ed7953"
             ],
             [
              0.7777777777777778,
              "#fb9f3a"
             ],
             [
              0.8888888888888888,
              "#fdca26"
             ],
             [
              1,
              "#f0f921"
             ]
            ],
            "type": "contour"
           }
          ],
          "contourcarpet": [
           {
            "colorbar": {
             "outlinewidth": 0,
             "ticks": ""
            },
            "type": "contourcarpet"
           }
          ],
          "heatmap": [
           {
            "colorbar": {
             "outlinewidth": 0,
             "ticks": ""
            },
            "colorscale": [
             [
              0,
              "#0d0887"
             ],
             [
              0.1111111111111111,
              "#46039f"
             ],
             [
              0.2222222222222222,
              "#7201a8"
             ],
             [
              0.3333333333333333,
              "#9c179e"
             ],
             [
              0.4444444444444444,
              "#bd3786"
             ],
             [
              0.5555555555555556,
              "#d8576b"
             ],
             [
              0.6666666666666666,
              "#ed7953"
             ],
             [
              0.7777777777777778,
              "#fb9f3a"
             ],
             [
              0.8888888888888888,
              "#fdca26"
             ],
             [
              1,
              "#f0f921"
             ]
            ],
            "type": "heatmap"
           }
          ],
          "histogram": [
           {
            "marker": {
             "pattern": {
              "fillmode": "overlay",
              "size": 10,
              "solidity": 0.2
             }
            },
            "type": "histogram"
           }
          ],
          "histogram2d": [
           {
            "colorbar": {
             "outlinewidth": 0,
             "ticks": ""
            },
            "colorscale": [
             [
              0,
              "#0d0887"
             ],
             [
              0.1111111111111111,
              "#46039f"
             ],
             [
              0.2222222222222222,
              "#7201a8"
             ],
             [
              0.3333333333333333,
              "#9c179e"
             ],
             [
              0.4444444444444444,
              "#bd3786"
             ],
             [
              0.5555555555555556,
              "#d8576b"
             ],
             [
              0.6666666666666666,
              "#ed7953"
             ],
             [
              0.7777777777777778,
              "#fb9f3a"
             ],
             [
              0.8888888888888888,
              "#fdca26"
             ],
             [
              1,
              "#f0f921"
             ]
            ],
            "type": "histogram2d"
           }
          ],
          "histogram2dcontour": [
           {
            "colorbar": {
             "outlinewidth": 0,
             "ticks": ""
            },
            "colorscale": [
             [
              0,
              "#0d0887"
             ],
             [
              0.1111111111111111,
              "#46039f"
             ],
             [
              0.2222222222222222,
              "#7201a8"
             ],
             [
              0.3333333333333333,
              "#9c179e"
             ],
             [
              0.4444444444444444,
              "#bd3786"
             ],
             [
              0.5555555555555556,
              "#d8576b"
             ],
             [
              0.6666666666666666,
              "#ed7953"
             ],
             [
              0.7777777777777778,
              "#fb9f3a"
             ],
             [
              0.8888888888888888,
              "#fdca26"
             ],
             [
              1,
              "#f0f921"
             ]
            ],
            "type": "histogram2dcontour"
           }
          ],
          "mesh3d": [
           {
            "colorbar": {
             "outlinewidth": 0,
             "ticks": ""
            },
            "type": "mesh3d"
           }
          ],
          "parcoords": [
           {
            "line": {
             "colorbar": {
              "outlinewidth": 0,
              "ticks": ""
             }
            },
            "type": "parcoords"
           }
          ],
          "pie": [
           {
            "automargin": true,
            "type": "pie"
           }
          ],
          "scatter": [
           {
            "fillpattern": {
             "fillmode": "overlay",
             "size": 10,
             "solidity": 0.2
            },
            "type": "scatter"
           }
          ],
          "scatter3d": [
           {
            "line": {
             "colorbar": {
              "outlinewidth": 0,
              "ticks": ""
             }
            },
            "marker": {
             "colorbar": {
              "outlinewidth": 0,
              "ticks": ""
             }
            },
            "type": "scatter3d"
           }
          ],
          "scattercarpet": [
           {
            "marker": {
             "colorbar": {
              "outlinewidth": 0,
              "ticks": ""
             }
            },
            "type": "scattercarpet"
           }
          ],
          "scattergeo": [
           {
            "marker": {
             "colorbar": {
              "outlinewidth": 0,
              "ticks": ""
             }
            },
            "type": "scattergeo"
           }
          ],
          "scattergl": [
           {
            "marker": {
             "colorbar": {
              "outlinewidth": 0,
              "ticks": ""
             }
            },
            "type": "scattergl"
           }
          ],
          "scattermap": [
           {
            "marker": {
             "colorbar": {
              "outlinewidth": 0,
              "ticks": ""
             }
            },
            "type": "scattermap"
           }
          ],
          "scattermapbox": [
           {
            "marker": {
             "colorbar": {
              "outlinewidth": 0,
              "ticks": ""
             }
            },
            "type": "scattermapbox"
           }
          ],
          "scatterpolar": [
           {
            "marker": {
             "colorbar": {
              "outlinewidth": 0,
              "ticks": ""
             }
            },
            "type": "scatterpolar"
           }
          ],
          "scatterpolargl": [
           {
            "marker": {
             "colorbar": {
              "outlinewidth": 0,
              "ticks": ""
             }
            },
            "type": "scatterpolargl"
           }
          ],
          "scatterternary": [
           {
            "marker": {
             "colorbar": {
              "outlinewidth": 0,
              "ticks": ""
             }
            },
            "type": "scatterternary"
           }
          ],
          "surface": [
           {
            "colorbar": {
             "outlinewidth": 0,
             "ticks": ""
            },
            "colorscale": [
             [
              0,
              "#0d0887"
             ],
             [
              0.1111111111111111,
              "#46039f"
             ],
             [
              0.2222222222222222,
              "#7201a8"
             ],
             [
              0.3333333333333333,
              "#9c179e"
             ],
             [
              0.4444444444444444,
              "#bd3786"
             ],
             [
              0.5555555555555556,
              "#d8576b"
             ],
             [
              0.6666666666666666,
              "#ed7953"
             ],
             [
              0.7777777777777778,
              "#fb9f3a"
             ],
             [
              0.8888888888888888,
              "#fdca26"
             ],
             [
              1,
              "#f0f921"
             ]
            ],
            "type": "surface"
           }
          ],
          "table": [
           {
            "cells": {
             "fill": {
              "color": "#EBF0F8"
             },
             "line": {
              "color": "white"
             }
            },
            "header": {
             "fill": {
              "color": "#C8D4E3"
             },
             "line": {
              "color": "white"
             }
            },
            "type": "table"
           }
          ]
         },
         "layout": {
          "annotationdefaults": {
           "arrowcolor": "#2a3f5f",
           "arrowhead": 0,
           "arrowwidth": 1
          },
          "autotypenumbers": "strict",
          "coloraxis": {
           "colorbar": {
            "outlinewidth": 0,
            "ticks": ""
           }
          },
          "colorscale": {
           "diverging": [
            [
             0,
             "#8e0152"
            ],
            [
             0.1,
             "#c51b7d"
            ],
            [
             0.2,
             "#de77ae"
            ],
            [
             0.3,
             "#f1b6da"
            ],
            [
             0.4,
             "#fde0ef"
            ],
            [
             0.5,
             "#f7f7f7"
            ],
            [
             0.6,
             "#e6f5d0"
            ],
            [
             0.7,
             "#b8e186"
            ],
            [
             0.8,
             "#7fbc41"
            ],
            [
             0.9,
             "#4d9221"
            ],
            [
             1,
             "#276419"
            ]
           ],
           "sequential": [
            [
             0,
             "#0d0887"
            ],
            [
             0.1111111111111111,
             "#46039f"
            ],
            [
             0.2222222222222222,
             "#7201a8"
            ],
            [
             0.3333333333333333,
             "#9c179e"
            ],
            [
             0.4444444444444444,
             "#bd3786"
            ],
            [
             0.5555555555555556,
             "#d8576b"
            ],
            [
             0.6666666666666666,
             "#ed7953"
            ],
            [
             0.7777777777777778,
             "#fb9f3a"
            ],
            [
             0.8888888888888888,
             "#fdca26"
            ],
            [
             1,
             "#f0f921"
            ]
           ],
           "sequentialminus": [
            [
             0,
             "#0d0887"
            ],
            [
             0.1111111111111111,
             "#46039f"
            ],
            [
             0.2222222222222222,
             "#7201a8"
            ],
            [
             0.3333333333333333,
             "#9c179e"
            ],
            [
             0.4444444444444444,
             "#bd3786"
            ],
            [
             0.5555555555555556,
             "#d8576b"
            ],
            [
             0.6666666666666666,
             "#ed7953"
            ],
            [
             0.7777777777777778,
             "#fb9f3a"
            ],
            [
             0.8888888888888888,
             "#fdca26"
            ],
            [
             1,
             "#f0f921"
            ]
           ]
          },
          "colorway": [
           "#636efa",
           "#EF553B",
           "#00cc96",
           "#ab63fa",
           "#FFA15A",
           "#19d3f3",
           "#FF6692",
           "#B6E880",
           "#FF97FF",
           "#FECB52"
          ],
          "font": {
           "color": "#2a3f5f"
          },
          "geo": {
           "bgcolor": "white",
           "lakecolor": "white",
           "landcolor": "white",
           "showlakes": true,
           "showland": true,
           "subunitcolor": "#C8D4E3"
          },
          "hoverlabel": {
           "align": "left"
          },
          "hovermode": "closest",
          "mapbox": {
           "style": "light"
          },
          "paper_bgcolor": "white",
          "plot_bgcolor": "white",
          "polar": {
           "angularaxis": {
            "gridcolor": "#EBF0F8",
            "linecolor": "#EBF0F8",
            "ticks": ""
           },
           "bgcolor": "white",
           "radialaxis": {
            "gridcolor": "#EBF0F8",
            "linecolor": "#EBF0F8",
            "ticks": ""
           }
          },
          "scene": {
           "xaxis": {
            "backgroundcolor": "white",
            "gridcolor": "#DFE8F3",
            "gridwidth": 2,
            "linecolor": "#EBF0F8",
            "showbackground": true,
            "ticks": "",
            "zerolinecolor": "#EBF0F8"
           },
           "yaxis": {
            "backgroundcolor": "white",
            "gridcolor": "#DFE8F3",
            "gridwidth": 2,
            "linecolor": "#EBF0F8",
            "showbackground": true,
            "ticks": "",
            "zerolinecolor": "#EBF0F8"
           },
           "zaxis": {
            "backgroundcolor": "white",
            "gridcolor": "#DFE8F3",
            "gridwidth": 2,
            "linecolor": "#EBF0F8",
            "showbackground": true,
            "ticks": "",
            "zerolinecolor": "#EBF0F8"
           }
          },
          "shapedefaults": {
           "line": {
            "color": "#2a3f5f"
           }
          },
          "ternary": {
           "aaxis": {
            "gridcolor": "#DFE8F3",
            "linecolor": "#A2B1C6",
            "ticks": ""
           },
           "baxis": {
            "gridcolor": "#DFE8F3",
            "linecolor": "#A2B1C6",
            "ticks": ""
           },
           "bgcolor": "white",
           "caxis": {
            "gridcolor": "#DFE8F3",
            "linecolor": "#A2B1C6",
            "ticks": ""
           }
          },
          "title": {
           "x": 0.05
          },
          "xaxis": {
           "automargin": true,
           "gridcolor": "#EBF0F8",
           "linecolor": "#EBF0F8",
           "ticks": "",
           "title": {
            "standoff": 15
           },
           "zerolinecolor": "#EBF0F8",
           "zerolinewidth": 2
          },
          "yaxis": {
           "automargin": true,
           "gridcolor": "#EBF0F8",
           "linecolor": "#EBF0F8",
           "ticks": "",
           "title": {
            "standoff": 15
           },
           "zerolinecolor": "#EBF0F8",
           "zerolinewidth": 2
          }
         }
        },
        "title": {
         "font": {
          "size": 20
         },
         "text": "Top 10 Countries by Population Exposed to Lden > 55 dB",
         "x": 0.5
        },
        "xaxis": {
         "anchor": "y",
         "autorange": true,
         "domain": [
          0,
          1
         ],
         "range": [
          -0.5,
          9.5
         ],
         "title": {
          "text": "Country"
         },
         "type": "category"
        },
        "yaxis": {
         "anchor": "x",
         "autorange": true,
         "domain": [
          0,
          1
         ],
         "range": [
          0,
          456210.5263157895
         ],
         "title": {
          "text": "Population Exposed"
         },
         "type": "linear"
        }
       }
      },
      "image/png": "[encoded data removed]"
     },
     "metadata": {},
     "output_type": "display_data"
    }
   ],
   "source": [
    "df_country[\"Total_Lden\"] = pd.to_numeric(df_country[\"Total_Lden\"], errors=\"coerce\")\n",
    "df_top10 = df_country.sort_values(\"Total_Lden\", ascending=False).head(10)\n",
    "\n",
    "fig2 = px.bar(\n",
    "    df_top10,\n",
    "    x=\"Country\",\n",
    "    y=\"Total_Lden\",\n",
    "    text=\"Total_Lden\",\n",
    "    title=\"Top 10 Countries by Population Exposed to Lden > 55 dB\",\n",
    "    labels={\"Total_Lden\": \"Population Exposed\"},\n",
    "    template=\"plotly_white\",\n",
    "    color=\"Total_Lden\",\n",
    "    color_continuous_scale=\"OrRd\"\n",
    ")\n",
    "fig2.update_traces(texttemplate=\"%{text:,.0f}\", textposition=\"outside\")\n",
    "fig2.update_layout(yaxis_title=\"Population Exposed\", xaxis_title=\"Country\", title_x=0.5, title_font=dict(size=20))\n",
    "fig2.write_image(\"viz2_population_exposed.png\", scale=3, width=2000, height=1200)\n",
    "\n",
    "fig2.show()"
   ]
  },
  {
   "cell_type": "markdown",
   "id": "3110e181-79e2-43de-90cd-8d03d7cfa22d",
   "metadata": {},
   "source": [
    "### Visualization 3: Daytime vs Nighttime Exposure (bubble plot)\n",
    "“This scatter compares daytime and nighttime exposure. Countries above the diagonal line experience relatively more nighttime disturbance—often linked to sleep disruption and health risks.”"
   ]
  },
  {
   "cell_type": "code",
   "execution_count": 25,
   "id": "e2cc1253-641e-4550-871d-a5e7f6bebc21",
   "metadata": {},
   "outputs": [
    {
     "data": {
      "application/vnd.plotly.v1+json": {
       "config": {
        "plotlyServerURL": "https://plot.ly"
       },
       "data": [
        {
         "alignmentgroup": "True",
         "boxpoints": "all",
         "hovertemplate": "Noise Band=%{x}<br>Population Exposed=%{y}<extra></extra>",
         "legendgroup": "",
         "marker": {
          "color": "#636efa"
         },
         "name": "",
         "notched": false,
         "offsetgroup": "",
         "orientation": "v",
         "showlegend": false,
         "type": "box",
         "x": [
          "55–59 dB",
          "55–59 dB",
          "55–59 dB",
          "55–59 dB",
          "55–59 dB",
          "55–59 dB",
          "55–59 dB",
          "55–59 dB",
          "55–59 dB",
          "55–59 dB",
          "55–59 dB",
          "55–59 dB",
          "55–59 dB",
          "55–59 dB",
          "55–59 dB",
          "55–59 dB",
          "55–59 dB",
          "55–59 dB",
          "55–59 dB",
          "55–59 dB",
          "55–59 dB",
          "55–59 dB",
          "55–59 dB",
          "55–59 dB",
          "55–59 dB",
          "55–59 dB",
          "55–59 dB",
          "55–59 dB",
          "55–59 dB",
          "55–59 dB",
          "55–59 dB",
          "55–59 dB",
          "60–64 dB",
          "60–64 dB",
          "60–64 dB",
          "60–64 dB",
          "60–64 dB",
          "60–64 dB",
          "60–64 dB",
          "60–64 dB",
          "60–64 dB",
          "60–64 dB",
          "60–64 dB",
          "60–64 dB",
          "60–64 dB",
          "60–64 dB",
          "60–64 dB",
          "60–64 dB",
          "60–64 dB",
          "60–64 dB",
          "60–64 dB",
          "60–64 dB",
          "60–64 dB",
          "60–64 dB",
          "60–64 dB",
          "60–64 dB",
          "60–64 dB",
          "60–64 dB",
          "60–64 dB",
          "60–64 dB",
          "60–64 dB",
          "60–64 dB",
          "60–64 dB",
          "60–64 dB",
          "65–69 dB",
          "65–69 dB",
          "65–69 dB",
          "65–69 dB",
          "65–69 dB",
          "65–69 dB",
          "65–69 dB",
          "65–69 dB",
          "65–69 dB",
          "65–69 dB",
          "65–69 dB",
          "65–69 dB",
          "65–69 dB",
          "65–69 dB",
          "65–69 dB",
          "65–69 dB",
          "65–69 dB",
          "65–69 dB",
          "65–69 dB",
          "65–69 dB",
          "65–69 dB",
          "65–69 dB",
          "65–69 dB",
          "65–69 dB",
          "65–69 dB",
          "65–69 dB",
          "65–69 dB",
          "65–69 dB",
          "65–69 dB",
          "65–69 dB",
          "65–69 dB",
          "65–69 dB",
          "70–74 dB",
          "70–74 dB",
          "70–74 dB",
          "70–74 dB",
          "70–74 dB",
          "70–74 dB",
          "70–74 dB",
          "70–74 dB",
          "70–74 dB",
          "70–74 dB",
          "70–74 dB",
          "70–74 dB",
          "70–74 dB",
          "70–74 dB",
          "70–74 dB",
          "70–74 dB",
          "70–74 dB",
          "70–74 dB",
          "70–74 dB",
          "70–74 dB",
          "70–74 dB",
          "70–74 dB",
          "70–74 dB",
          "70–74 dB",
          "70–74 dB",
          "70–74 dB",
          "70–74 dB",
          "70–74 dB",
          "70–74 dB",
          "70–74 dB",
          "70–74 dB",
          "70–74 dB",
          "75+ dB",
          "75+ dB",
          "75+ dB",
          "75+ dB",
          "75+ dB",
          "75+ dB",
          "75+ dB",
          "75+ dB",
          "75+ dB",
          "75+ dB",
          "75+ dB",
          "75+ dB",
          "75+ dB",
          "75+ dB",
          "75+ dB",
          "75+ dB",
          "75+ dB",
          "75+ dB",
          "75+ dB",
          "75+ dB",
          "75+ dB",
          "75+ dB",
          "75+ dB",
          "75+ dB",
          "75+ dB",
          "75+ dB",
          "75+ dB",
          "75+ dB",
          "75+ dB",
          "75+ dB",
          "75+ dB",
          "75+ dB"
         ],
         "x0": " ",
         "xaxis": "x",
         "y": {
          "_inputArray": {
           "0": 4000,
           "1": 21400,
           "10": 68500,
           "100": 200,
           "101": 0,
           "102": 0,
           "103": 100,
           "104": 0,
           "105": 4600,
           "106": 1400,
           "107": 0,
           "108": 0,
           "109": 0,
           "11": 0,
           "110": 0,
           "111": 6700,
           "112": 0,
           "113": 0,
           "114": 0,
           "115": 0,
           "116": 0,
           "117": 100,
           "118": 0,
           "119": 100,
           "12": 0,
           "120": 0,
           "121": 0,
           "122": 0,
           "123": 0,
           "124": 0,
           "125": 0,
           "126": 0,
           "127": 0,
           "128": 100,
           "129": 500,
           "13": 0,
           "130": 0,
           "131": 0,
           "132": 0,
           "133": 0,
           "134": 0,
           "135": 400,
           "136": 0,
           "137": 1400,
           "138": 100,
           "139": 0,
           "14": 3600,
           "140": 0,
           "141": 0,
           "142": 0,
           "143": 1600,
           "144": 0,
           "145": 0,
           "146": 0,
           "147": 0,
           "148": 0,
           "149": 0,
           "15": 32400,
           "150": 0,
           "151": 0,
           "152": 0,
           "153": 0,
           "154": 0,
           "155": 0,
           "156": 400,
           "157": 0,
           "158": 0,
           "159": 0,
           "16": 7100,
           "17": 0,
           "18": 700,
           "19": 8600,
           "2": 0,
           "20": 0,
           "21": 51500,
           "22": 0,
           "23": 9100,
           "24": 1200,
           "25": 2700,
           "26": 0,
           "27": 0,
           "28": 11400,
           "29": 0,
           "3": 100,
           "30": 0,
           "31": 0,
           "32": 800,
           "33": 9000,
           "34": 0,
           "35": 0,
           "36": 1400,
           "37": 500,
           "38": 0,
           "39": 900,
           "4": 9200,
           "40": 0,
           "41": 50400,
           "42": 17800,
           "43": 0,
           "44": 0,
           "45": 0,
           "46": 1000,
           "47": 23300,
           "48": 3000,
           "49": 0,
           "5": 1500,
           "50": 200,
           "51": 2500,
           "52": 0,
           "53": 5900,
           "54": 0,
           "55": 1900,
           "56": 400,
           "57": 1300,
           "58": 0,
           "59": 0,
           "6": 400,
           "60": 5400,
           "61": 0,
           "62": 0,
           "63": 0,
           "64": 300,
           "65": 3300,
           "66": 0,
           "67": 0,
           "68": 400,
           "69": 200,
           "7": 2000,
           "70": 0,
           "71": 100,
           "72": 0,
           "73": 17500,
           "74": 4300,
           "75": 0,
           "76": 0,
           "77": 0,
           "78": 300,
           "79": 10700,
           "8": 0,
           "80": 300,
           "81": 0,
           "82": 0,
           "83": 300,
           "84": 0,
           "85": 600,
           "86": 0,
           "87": 300,
           "88": 100,
           "89": 100,
           "9": 108500,
           "90": 0,
           "91": 0,
           "92": 1800,
           "93": 0,
           "94": 0,
           "95": 0,
           "96": 100,
           "97": 1200,
           "98": 0,
           "99": 0,
           "bdata": "oA8AAJhTAAAAAAAAZAAAAPAjAADcBQAAkAEAANAHAAAAAAAA1KcBAJQLAQAAAAAAAAAAAAAAAAAQDgAAkH4AALwbAAAAAAAAvAIAAJghAAAAAAAALMkAAAAAAACMIwAAsAQAAIwKAAAAAAAAAAAAAIgsAAAAAAAAAAAAAAAAAAAgAwAAKCMAAAAAAAAAAAAAeAUAAPQBAAAAAAAAhAMAAAAAAADgxAAAiEUAAAAAAAAAAAAAAAAAAOgDAAAEWwAAuAsAAAAAAADIAAAAxAkAAAAAAAAMFwAAAAAAAGwHAACQAQAAFAUAAAAAAAAAAAAAGBUAAAAAAAAAAAAAAAAAACwBAADkDAAAAAAAAAAAAACQAQAAyAAAAAAAAABkAAAAAAAAAFxEAADMEAAAAAAAAAAAAAAAAAAALAEAAMwpAAAsAQAAAAAAAAAAAAAsAQAAAAAAAFgCAAAAAAAALAEAAGQAAABkAAAAAAAAAAAAAAAIBwAAAAAAAAAAAAAAAAAAZAAAALAEAAAAAAAAAAAAAMgAAAAAAAAAAAAAAGQAAAAAAAAA+BEAAHgFAAAAAAAAAAAAAAAAAAAAAAAALBoAAAAAAAAAAAAAAAAAAAAAAAAAAAAAZAAAAAAAAABkAAAAAAAAAAAAAAAAAAAAAAAAAAAAAAAAAAAAAAAAAAAAAABkAAAA9AEAAAAAAAAAAAAAAAAAAAAAAAAAAAAAkAEAAAAAAAB4BQAAZAAAAAAAAAAAAAAAAAAAAAAAAABABgAAAAAAAAAAAAAAAAAAAAAAAAAAAAAAAAAAAAAAAAAAAAAAAAAAAAAAAAAAAAAAAAAAkAEAAAAAAAAAAAAAAAAAAA==",
           "dtype": "i4",
           "shape": "160"
          },
          "bdata": "oA8AAJhTAAAAAAAAZAAAAPAjAADcBQAAkAEAANAHAAAAAAAA1KcBAJQLAQAAAAAAAAAAAAAAAAAQDgAAkH4AALwbAAAAAAAAvAIAAJghAAAAAAAALMkAAAAAAACMIwAAsAQAAIwKAAAAAAAAAAAAAIgsAAAAAAAAAAAAAAAAAAAgAwAAKCMAAAAAAAAAAAAAeAUAAPQBAAAAAAAAhAMAAAAAAADgxAAAiEUAAAAAAAAAAAAAAAAAAOgDAAAEWwAAuAsAAAAAAADIAAAAxAkAAAAAAAAMFwAAAAAAAGwHAACQAQAAFAUAAAAAAAAAAAAAGBUAAAAAAAAAAAAAAAAAACwBAADkDAAAAAAAAAAAAACQAQAAyAAAAAAAAABkAAAAAAAAAFxEAADMEAAAAAAAAAAAAAAAAAAALAEAAMwpAAAsAQAAAAAAAAAAAAAsAQAAAAAAAFgCAAAAAAAALAEAAGQAAABkAAAAAAAAAAAAAAAIBwAAAAAAAAAAAAAAAAAAZAAAALAEAAAAAAAAAAAAAMgAAAAAAAAAAAAAAGQAAAAAAAAA+BEAAHgFAAAAAAAAAAAAAAAAAAAAAAAALBoAAAAAAAAAAAAAAAAAAAAAAAAAAAAAZAAAAAAAAABkAAAAAAAAAAAAAAAAAAAAAAAAAAAAAAAAAAAAAAAAAAAAAABkAAAA9AEAAAAAAAAAAAAAAAAAAAAAAAAAAAAAkAEAAAAAAAB4BQAAZAAAAAAAAAAAAAAAAAAAAAAAAABABgAAAAAAAAAAAAAAAAAAAAAAAAAAAAAAAAAAAAAAAAAAAAAAAAAAAAAAAAAAAAAAAAAAkAEAAAAAAAAAAAAAAAAAAA==",
          "dtype": "i4"
         },
         "y0": " ",
         "yaxis": "y"
        },
        {
         "alignmentgroup": "True",
         "boxpoints": "all",
         "fillcolor": "rgba(255,255,255,0)",
         "hoveron": "points",
         "hovertemplate": "Noise Band=%{x}<br>Exposed=%{y}<extra></extra>",
         "legendgroup": "",
         "line": {
          "color": "rgba(255,255,255,0)"
         },
         "marker": {
          "color": "rgba(0, 0, 0, 0.4)"
         },
         "name": "",
         "offsetgroup": "",
         "orientation": "v",
         "pointpos": 0,
         "showlegend": false,
         "type": "box",
         "x": [
          "55–59 dB",
          "55–59 dB",
          "55–59 dB",
          "55–59 dB",
          "55–59 dB",
          "55–59 dB",
          "55–59 dB",
          "55–59 dB",
          "55–59 dB",
          "55–59 dB",
          "55–59 dB",
          "55–59 dB",
          "55–59 dB",
          "55–59 dB",
          "55–59 dB",
          "55–59 dB",
          "55–59 dB",
          "55–59 dB",
          "55–59 dB",
          "55–59 dB",
          "55–59 dB",
          "55–59 dB",
          "55–59 dB",
          "55–59 dB",
          "55–59 dB",
          "55–59 dB",
          "55–59 dB",
          "55–59 dB",
          "55–59 dB",
          "55–59 dB",
          "55–59 dB",
          "55–59 dB",
          "60–64 dB",
          "60–64 dB",
          "60–64 dB",
          "60–64 dB",
          "60–64 dB",
          "60–64 dB",
          "60–64 dB",
          "60–64 dB",
          "60–64 dB",
          "60–64 dB",
          "60–64 dB",
          "60–64 dB",
          "60–64 dB",
          "60–64 dB",
          "60–64 dB",
          "60–64 dB",
          "60–64 dB",
          "60–64 dB",
          "60–64 dB",
          "60–64 dB",
          "60–64 dB",
          "60–64 dB",
          "60–64 dB",
          "60–64 dB",
          "60–64 dB",
          "60–64 dB",
          "60–64 dB",
          "60–64 dB",
          "60–64 dB",
          "60–64 dB",
          "60–64 dB",
          "60–64 dB",
          "65–69 dB",
          "65–69 dB",
          "65–69 dB",
          "65–69 dB",
          "65–69 dB",
          "65–69 dB",
          "65–69 dB",
          "65–69 dB",
          "65–69 dB",
          "65–69 dB",
          "65–69 dB",
          "65–69 dB",
          "65–69 dB",
          "65–69 dB",
          "65–69 dB",
          "65–69 dB",
          "65–69 dB",
          "65–69 dB",
          "65–69 dB",
          "65–69 dB",
          "65–69 dB",
          "65–69 dB",
          "65–69 dB",
          "65–69 dB",
          "65–69 dB",
          "65–69 dB",
          "65–69 dB",
          "65–69 dB",
          "65–69 dB",
          "65–69 dB",
          "65–69 dB",
          "65–69 dB",
          "70–74 dB",
          "70–74 dB",
          "70–74 dB",
          "70–74 dB",
          "70–74 dB",
          "70–74 dB",
          "70–74 dB",
          "70–74 dB",
          "70–74 dB",
          "70–74 dB",
          "70–74 dB",
          "70–74 dB",
          "70–74 dB",
          "70–74 dB",
          "70–74 dB",
          "70–74 dB",
          "70–74 dB",
          "70–74 dB",
          "70–74 dB",
          "70–74 dB",
          "70–74 dB",
          "70–74 dB",
          "70–74 dB",
          "70–74 dB",
          "70–74 dB",
          "70–74 dB",
          "70–74 dB",
          "70–74 dB",
          "70–74 dB",
          "70–74 dB",
          "70–74 dB",
          "70–74 dB",
          "75+ dB",
          "75+ dB",
          "75+ dB",
          "75+ dB",
          "75+ dB",
          "75+ dB",
          "75+ dB",
          "75+ dB",
          "75+ dB",
          "75+ dB",
          "75+ dB",
          "75+ dB",
          "75+ dB",
          "75+ dB",
          "75+ dB",
          "75+ dB",
          "75+ dB",
          "75+ dB",
          "75+ dB",
          "75+ dB",
          "75+ dB",
          "75+ dB",
          "75+ dB",
          "75+ dB",
          "75+ dB",
          "75+ dB",
          "75+ dB",
          "75+ dB",
          "75+ dB",
          "75+ dB",
          "75+ dB",
          "75+ dB"
         ],
         "x0": " ",
         "xaxis": "x",
         "y": {
          "_inputArray": {
           "0": 4000,
           "1": 21400,
           "10": 68500,
           "100": 200,
           "101": 0,
           "102": 0,
           "103": 100,
           "104": 0,
           "105": 4600,
           "106": 1400,
           "107": 0,
           "108": 0,
           "109": 0,
           "11": 0,
           "110": 0,
           "111": 6700,
           "112": 0,
           "113": 0,
           "114": 0,
           "115": 0,
           "116": 0,
           "117": 100,
           "118": 0,
           "119": 100,
           "12": 0,
           "120": 0,
           "121": 0,
           "122": 0,
           "123": 0,
           "124": 0,
           "125": 0,
           "126": 0,
           "127": 0,
           "128": 100,
           "129": 500,
           "13": 0,
           "130": 0,
           "131": 0,
           "132": 0,
           "133": 0,
           "134": 0,
           "135": 400,
           "136": 0,
           "137": 1400,
           "138": 100,
           "139": 0,
           "14": 3600,
           "140": 0,
           "141": 0,
           "142": 0,
           "143": 1600,
           "144": 0,
           "145": 0,
           "146": 0,
           "147": 0,
           "148": 0,
           "149": 0,
           "15": 32400,
           "150": 0,
           "151": 0,
           "152": 0,
           "153": 0,
           "154": 0,
           "155": 0,
           "156": 400,
           "157": 0,
           "158": 0,
           "159": 0,
           "16": 7100,
           "17": 0,
           "18": 700,
           "19": 8600,
           "2": 0,
           "20": 0,
           "21": 51500,
           "22": 0,
           "23": 9100,
           "24": 1200,
           "25": 2700,
           "26": 0,
           "27": 0,
           "28": 11400,
           "29": 0,
           "3": 100,
           "30": 0,
           "31": 0,
           "32": 800,
           "33": 9000,
           "34": 0,
           "35": 0,
           "36": 1400,
           "37": 500,
           "38": 0,
           "39": 900,
           "4": 9200,
           "40": 0,
           "41": 50400,
           "42": 17800,
           "43": 0,
           "44": 0,
           "45": 0,
           "46": 1000,
           "47": 23300,
           "48": 3000,
           "49": 0,
           "5": 1500,
           "50": 200,
           "51": 2500,
           "52": 0,
           "53": 5900,
           "54": 0,
           "55": 1900,
           "56": 400,
           "57": 1300,
           "58": 0,
           "59": 0,
           "6": 400,
           "60": 5400,
           "61": 0,
           "62": 0,
           "63": 0,
           "64": 300,
           "65": 3300,
           "66": 0,
           "67": 0,
           "68": 400,
           "69": 200,
           "7": 2000,
           "70": 0,
           "71": 100,
           "72": 0,
           "73": 17500,
           "74": 4300,
           "75": 0,
           "76": 0,
           "77": 0,
           "78": 300,
           "79": 10700,
           "8": 0,
           "80": 300,
           "81": 0,
           "82": 0,
           "83": 300,
           "84": 0,
           "85": 600,
           "86": 0,
           "87": 300,
           "88": 100,
           "89": 100,
           "9": 108500,
           "90": 0,
           "91": 0,
           "92": 1800,
           "93": 0,
           "94": 0,
           "95": 0,
           "96": 100,
           "97": 1200,
           "98": 0,
           "99": 0,
           "bdata": "oA8AAJhTAAAAAAAAZAAAAPAjAADcBQAAkAEAANAHAAAAAAAA1KcBAJQLAQAAAAAAAAAAAAAAAAAQDgAAkH4AALwbAAAAAAAAvAIAAJghAAAAAAAALMkAAAAAAACMIwAAsAQAAIwKAAAAAAAAAAAAAIgsAAAAAAAAAAAAAAAAAAAgAwAAKCMAAAAAAAAAAAAAeAUAAPQBAAAAAAAAhAMAAAAAAADgxAAAiEUAAAAAAAAAAAAAAAAAAOgDAAAEWwAAuAsAAAAAAADIAAAAxAkAAAAAAAAMFwAAAAAAAGwHAACQAQAAFAUAAAAAAAAAAAAAGBUAAAAAAAAAAAAAAAAAACwBAADkDAAAAAAAAAAAAACQAQAAyAAAAAAAAABkAAAAAAAAAFxEAADMEAAAAAAAAAAAAAAAAAAALAEAAMwpAAAsAQAAAAAAAAAAAAAsAQAAAAAAAFgCAAAAAAAALAEAAGQAAABkAAAAAAAAAAAAAAAIBwAAAAAAAAAAAAAAAAAAZAAAALAEAAAAAAAAAAAAAMgAAAAAAAAAAAAAAGQAAAAAAAAA+BEAAHgFAAAAAAAAAAAAAAAAAAAAAAAALBoAAAAAAAAAAAAAAAAAAAAAAAAAAAAAZAAAAAAAAABkAAAAAAAAAAAAAAAAAAAAAAAAAAAAAAAAAAAAAAAAAAAAAABkAAAA9AEAAAAAAAAAAAAAAAAAAAAAAAAAAAAAkAEAAAAAAAB4BQAAZAAAAAAAAAAAAAAAAAAAAAAAAABABgAAAAAAAAAAAAAAAAAAAAAAAAAAAAAAAAAAAAAAAAAAAAAAAAAAAAAAAAAAAAAAAAAAkAEAAAAAAAAAAAAAAAAAAA==",
           "dtype": "i4",
           "shape": "160"
          },
          "bdata": "oA8AAJhTAAAAAAAAZAAAAPAjAADcBQAAkAEAANAHAAAAAAAA1KcBAJQLAQAAAAAAAAAAAAAAAAAQDgAAkH4AALwbAAAAAAAAvAIAAJghAAAAAAAALMkAAAAAAACMIwAAsAQAAIwKAAAAAAAAAAAAAIgsAAAAAAAAAAAAAAAAAAAgAwAAKCMAAAAAAAAAAAAAeAUAAPQBAAAAAAAAhAMAAAAAAADgxAAAiEUAAAAAAAAAAAAAAAAAAOgDAAAEWwAAuAsAAAAAAADIAAAAxAkAAAAAAAAMFwAAAAAAAGwHAACQAQAAFAUAAAAAAAAAAAAAGBUAAAAAAAAAAAAAAAAAACwBAADkDAAAAAAAAAAAAACQAQAAyAAAAAAAAABkAAAAAAAAAFxEAADMEAAAAAAAAAAAAAAAAAAALAEAAMwpAAAsAQAAAAAAAAAAAAAsAQAAAAAAAFgCAAAAAAAALAEAAGQAAABkAAAAAAAAAAAAAAAIBwAAAAAAAAAAAAAAAAAAZAAAALAEAAAAAAAAAAAAAMgAAAAAAAAAAAAAAGQAAAAAAAAA+BEAAHgFAAAAAAAAAAAAAAAAAAAAAAAALBoAAAAAAAAAAAAAAAAAAAAAAAAAAAAAZAAAAAAAAABkAAAAAAAAAAAAAAAAAAAAAAAAAAAAAAAAAAAAAAAAAAAAAABkAAAA9AEAAAAAAAAAAAAAAAAAAAAAAAAAAAAAkAEAAAAAAAB4BQAAZAAAAAAAAAAAAAAAAAAAAAAAAABABgAAAAAAAAAAAAAAAAAAAAAAAAAAAAAAAAAAAAAAAAAAAAAAAAAAAAAAAAAAAAAAAAAAkAEAAAAAAAAAAAAAAAAAAA==",
          "dtype": "i4"
         },
         "y0": " ",
         "yaxis": "y"
        }
       ],
       "layout": {
        "autosize": true,
        "boxmode": "overlay",
        "legend": {
         "tracegroupgap": 0
        },
        "template": {
         "data": {
          "bar": [
           {
            "error_x": {
             "color": "#2a3f5f"
            },
            "error_y": {
             "color": "#2a3f5f"
            },
            "marker": {
             "line": {
              "color": "white",
              "width": 0.5
             },
             "pattern": {
              "fillmode": "overlay",
              "size": 10,
              "solidity": 0.2
             }
            },
            "type": "bar"
           }
          ],
          "barpolar": [
           {
            "marker": {
             "line": {
              "color": "white",
              "width": 0.5
             },
             "pattern": {
              "fillmode": "overlay",
              "size": 10,
              "solidity": 0.2
             }
            },
            "type": "barpolar"
           }
          ],
          "carpet": [
           {
            "aaxis": {
             "endlinecolor": "#2a3f5f",
             "gridcolor": "#C8D4E3",
             "linecolor": "#C8D4E3",
             "minorgridcolor": "#C8D4E3",
             "startlinecolor": "#2a3f5f"
            },
            "baxis": {
             "endlinecolor": "#2a3f5f",
             "gridcolor": "#C8D4E3",
             "linecolor": "#C8D4E3",
             "minorgridcolor": "#C8D4E3",
             "startlinecolor": "#2a3f5f"
            },
            "type": "carpet"
           }
          ],
          "choropleth": [
           {
            "colorbar": {
             "outlinewidth": 0,
             "ticks": ""
            },
            "type": "choropleth"
           }
          ],
          "contour": [
           {
            "colorbar": {
             "outlinewidth": 0,
             "ticks": ""
            },
            "colorscale": [
             [
              0,
              "#0d0887"
             ],
             [
              0.1111111111111111,
              "#46039f"
             ],
             [
              0.2222222222222222,
              "#7201a8"
             ],
             [
              0.3333333333333333,
              "#9c179e"
             ],
             [
              0.4444444444444444,
              "#bd3786"
             ],
             [
              0.5555555555555556,
              "#d8576b"
             ],
             [
              0.6666666666666666,
              "#ed7953"
             ],
             [
              0.7777777777777778,
              "#fb9f3a"
             ],
             [
              0.8888888888888888,
              "#fdca26"
             ],
             [
              1,
              "#f0f921"
             ]
            ],
            "type": "contour"
           }
          ],
          "contourcarpet": [
           {
            "colorbar": {
             "outlinewidth": 0,
             "ticks": ""
            },
            "type": "contourcarpet"
           }
          ],
          "heatmap": [
           {
            "colorbar": {
             "outlinewidth": 0,
             "ticks": ""
            },
            "colorscale": [
             [
              0,
              "#0d0887"
             ],
             [
              0.1111111111111111,
              "#46039f"
             ],
             [
              0.2222222222222222,
              "#7201a8"
             ],
             [
              0.3333333333333333,
              "#9c179e"
             ],
             [
              0.4444444444444444,
              "#bd3786"
             ],
             [
              0.5555555555555556,
              "#d8576b"
             ],
             [
              0.6666666666666666,
              "#ed7953"
             ],
             [
              0.7777777777777778,
              "#fb9f3a"
             ],
             [
              0.8888888888888888,
              "#fdca26"
             ],
             [
              1,
              "#f0f921"
             ]
            ],
            "type": "heatmap"
           }
          ],
          "histogram": [
           {
            "marker": {
             "pattern": {
              "fillmode": "overlay",
              "size": 10,
              "solidity": 0.2
             }
            },
            "type": "histogram"
           }
          ],
          "histogram2d": [
           {
            "colorbar": {
             "outlinewidth": 0,
             "ticks": ""
            },
            "colorscale": [
             [
              0,
              "#0d0887"
             ],
             [
              0.1111111111111111,
              "#46039f"
             ],
             [
              0.2222222222222222,
              "#7201a8"
             ],
             [
              0.3333333333333333,
              "#9c179e"
             ],
             [
              0.4444444444444444,
              "#bd3786"
             ],
             [
              0.5555555555555556,
              "#d8576b"
             ],
             [
              0.6666666666666666,
              "#ed7953"
             ],
             [
              0.7777777777777778,
              "#fb9f3a"
             ],
             [
              0.8888888888888888,
              "#fdca26"
             ],
             [
              1,
              "#f0f921"
             ]
            ],
            "type": "histogram2d"
           }
          ],
          "histogram2dcontour": [
           {
            "colorbar": {
             "outlinewidth": 0,
             "ticks": ""
            },
            "colorscale": [
             [
              0,
              "#0d0887"
             ],
             [
              0.1111111111111111,
              "#46039f"
             ],
             [
              0.2222222222222222,
              "#7201a8"
             ],
             [
              0.3333333333333333,
              "#9c179e"
             ],
             [
              0.4444444444444444,
              "#bd3786"
             ],
             [
              0.5555555555555556,
              "#d8576b"
             ],
             [
              0.6666666666666666,
              "#ed7953"
             ],
             [
              0.7777777777777778,
              "#fb9f3a"
             ],
             [
              0.8888888888888888,
              "#fdca26"
             ],
             [
              1,
              "#f0f921"
             ]
            ],
            "type": "histogram2dcontour"
           }
          ],
          "mesh3d": [
           {
            "colorbar": {
             "outlinewidth": 0,
             "ticks": ""
            },
            "type": "mesh3d"
           }
          ],
          "parcoords": [
           {
            "line": {
             "colorbar": {
              "outlinewidth": 0,
              "ticks": ""
             }
            },
            "type": "parcoords"
           }
          ],
          "pie": [
           {
            "automargin": true,
            "type": "pie"
           }
          ],
          "scatter": [
           {
            "fillpattern": {
             "fillmode": "overlay",
             "size": 10,
             "solidity": 0.2
            },
            "type": "scatter"
           }
          ],
          "scatter3d": [
           {
            "line": {
             "colorbar": {
              "outlinewidth": 0,
              "ticks": ""
             }
            },
            "marker": {
             "colorbar": {
              "outlinewidth": 0,
              "ticks": ""
             }
            },
            "type": "scatter3d"
           }
          ],
          "scattercarpet": [
           {
            "marker": {
             "colorbar": {
              "outlinewidth": 0,
              "ticks": ""
             }
            },
            "type": "scattercarpet"
           }
          ],
          "scattergeo": [
           {
            "marker": {
             "colorbar": {
              "outlinewidth": 0,
              "ticks": ""
             }
            },
            "type": "scattergeo"
           }
          ],
          "scattergl": [
           {
            "marker": {
             "colorbar": {
              "outlinewidth": 0,
              "ticks": ""
             }
            },
            "type": "scattergl"
           }
          ],
          "scattermap": [
           {
            "marker": {
             "colorbar": {
              "outlinewidth": 0,
              "ticks": ""
             }
            },
            "type": "scattermap"
           }
          ],
          "scattermapbox": [
           {
            "marker": {
             "colorbar": {
              "outlinewidth": 0,
              "ticks": ""
             }
            },
            "type": "scattermapbox"
           }
          ],
          "scatterpolar": [
           {
            "marker": {
             "colorbar": {
              "outlinewidth": 0,
              "ticks": ""
             }
            },
            "type": "scatterpolar"
           }
          ],
          "scatterpolargl": [
           {
            "marker": {
             "colorbar": {
              "outlinewidth": 0,
              "ticks": ""
             }
            },
            "type": "scatterpolargl"
           }
          ],
          "scatterternary": [
           {
            "marker": {
             "colorbar": {
              "outlinewidth": 0,
              "ticks": ""
             }
            },
            "type": "scatterternary"
           }
          ],
          "surface": [
           {
            "colorbar": {
             "outlinewidth": 0,
             "ticks": ""
            },
            "colorscale": [
             [
              0,
              "#0d0887"
             ],
             [
              0.1111111111111111,
              "#46039f"
             ],
             [
              0.2222222222222222,
              "#7201a8"
             ],
             [
              0.3333333333333333,
              "#9c179e"
             ],
             [
              0.4444444444444444,
              "#bd3786"
             ],
             [
              0.5555555555555556,
              "#d8576b"
             ],
             [
              0.6666666666666666,
              "#ed7953"
             ],
             [
              0.7777777777777778,
              "#fb9f3a"
             ],
             [
              0.8888888888888888,
              "#fdca26"
             ],
             [
              1,
              "#f0f921"
             ]
            ],
            "type": "surface"
           }
          ],
          "table": [
           {
            "cells": {
             "fill": {
              "color": "#EBF0F8"
             },
             "line": {
              "color": "white"
             }
            },
            "header": {
             "fill": {
              "color": "#C8D4E3"
             },
             "line": {
              "color": "white"
             }
            },
            "type": "table"
           }
          ]
         },
         "layout": {
          "annotationdefaults": {
           "arrowcolor": "#2a3f5f",
           "arrowhead": 0,
           "arrowwidth": 1
          },
          "autotypenumbers": "strict",
          "coloraxis": {
           "colorbar": {
            "outlinewidth": 0,
            "ticks": ""
           }
          },
          "colorscale": {
           "diverging": [
            [
             0,
             "#8e0152"
            ],
            [
             0.1,
             "#c51b7d"
            ],
            [
             0.2,
             "#de77ae"
            ],
            [
             0.3,
             "#f1b6da"
            ],
            [
             0.4,
             "#fde0ef"
            ],
            [
             0.5,
             "#f7f7f7"
            ],
            [
             0.6,
             "#e6f5d0"
            ],
            [
             0.7,
             "#b8e186"
            ],
            [
             0.8,
             "#7fbc41"
            ],
            [
             0.9,
             "#4d9221"
            ],
            [
             1,
             "#276419"
            ]
           ],
           "sequential": [
            [
             0,
             "#0d0887"
            ],
            [
             0.1111111111111111,
             "#46039f"
            ],
            [
             0.2222222222222222,
             "#7201a8"
            ],
            [
             0.3333333333333333,
             "#9c179e"
            ],
            [
             0.4444444444444444,
             "#bd3786"
            ],
            [
             0.5555555555555556,
             "#d8576b"
            ],
            [
             0.6666666666666666,
             "#ed7953"
            ],
            [
             0.7777777777777778,
             "#fb9f3a"
            ],
            [
             0.8888888888888888,
             "#fdca26"
            ],
            [
             1,
             "#f0f921"
            ]
           ],
           "sequentialminus": [
            [
             0,
             "#0d0887"
            ],
            [
             0.1111111111111111,
             "#46039f"
            ],
            [
             0.2222222222222222,
             "#7201a8"
            ],
            [
             0.3333333333333333,
             "#9c179e"
            ],
            [
             0.4444444444444444,
             "#bd3786"
            ],
            [
             0.5555555555555556,
             "#d8576b"
            ],
            [
             0.6666666666666666,
             "#ed7953"
            ],
            [
             0.7777777777777778,
             "#fb9f3a"
            ],
            [
             0.8888888888888888,
             "#fdca26"
            ],
            [
             1,
             "#f0f921"
            ]
           ]
          },
          "colorway": [
           "#636efa",
           "#EF553B",
           "#00cc96",
           "#ab63fa",
           "#FFA15A",
           "#19d3f3",
           "#FF6692",
           "#B6E880",
           "#FF97FF",
           "#FECB52"
          ],
          "font": {
           "color": "#2a3f5f"
          },
          "geo": {
           "bgcolor": "white",
           "lakecolor": "white",
           "landcolor": "white",
           "showlakes": true,
           "showland": true,
           "subunitcolor": "#C8D4E3"
          },
          "hoverlabel": {
           "align": "left"
          },
          "hovermode": "closest",
          "mapbox": {
           "style": "light"
          },
          "paper_bgcolor": "white",
          "plot_bgcolor": "white",
          "polar": {
           "angularaxis": {
            "gridcolor": "#EBF0F8",
            "linecolor": "#EBF0F8",
            "ticks": ""
           },
           "bgcolor": "white",
           "radialaxis": {
            "gridcolor": "#EBF0F8",
            "linecolor": "#EBF0F8",
            "ticks": ""
           }
          },
          "scene": {
           "xaxis": {
            "backgroundcolor": "white",
            "gridcolor": "#DFE8F3",
            "gridwidth": 2,
            "linecolor": "#EBF0F8",
            "showbackground": true,
            "ticks": "",
            "zerolinecolor": "#EBF0F8"
           },
           "yaxis": {
            "backgroundcolor": "white",
            "gridcolor": "#DFE8F3",
            "gridwidth": 2,
            "linecolor": "#EBF0F8",
            "showbackground": true,
            "ticks": "",
            "zerolinecolor": "#EBF0F8"
           },
           "zaxis": {
            "backgroundcolor": "white",
            "gridcolor": "#DFE8F3",
            "gridwidth": 2,
            "linecolor": "#EBF0F8",
            "showbackground": true,
            "ticks": "",
            "zerolinecolor": "#EBF0F8"
           }
          },
          "shapedefaults": {
           "line": {
            "color": "#2a3f5f"
           }
          },
          "ternary": {
           "aaxis": {
            "gridcolor": "#DFE8F3",
            "linecolor": "#A2B1C6",
            "ticks": ""
           },
           "baxis": {
            "gridcolor": "#DFE8F3",
            "linecolor": "#A2B1C6",
            "ticks": ""
           },
           "bgcolor": "white",
           "caxis": {
            "gridcolor": "#DFE8F3",
            "linecolor": "#A2B1C6",
            "ticks": ""
           }
          },
          "title": {
           "x": 0.05
          },
          "xaxis": {
           "automargin": true,
           "gridcolor": "#EBF0F8",
           "linecolor": "#EBF0F8",
           "ticks": "",
           "title": {
            "standoff": 15
           },
           "zerolinecolor": "#EBF0F8",
           "zerolinewidth": 2
          },
          "yaxis": {
           "automargin": true,
           "gridcolor": "#EBF0F8",
           "linecolor": "#EBF0F8",
           "ticks": "",
           "title": {
            "standoff": 15
           },
           "zerolinecolor": "#EBF0F8",
           "zerolinewidth": 2
          }
         }
        },
        "title": {
         "font": {
          "size": 20
         },
         "text": "Distribution of Population Exposed by Noise Bands (All Countries)",
         "x": 0.5
        },
        "xaxis": {
         "anchor": "y",
         "autorange": true,
         "domain": [
          0,
          1
         ],
         "range": [
          -0.5159574468085106,
          4.5
         ],
         "title": {
          "text": "Noise Exposure Band"
         },
         "type": "category"
        },
        "yaxis": {
         "anchor": "x",
         "autorange": true,
         "domain": [
          0,
          1
         ],
         "range": [
          1.8313650145453029,
          5.204064723639245
         ],
         "title": {
          "text": "Population Exposed (log scale)"
         },
         "type": "log"
        }
       }
      },
      "image/png": "[encoded data removed]"
     },
     "metadata": {},
     "output_type": "display_data"
    }
   ],
   "source": [
    "# Define mapping for prettier labels\n",
    "band_labels = {\n",
    "    \"Lden_55_59\": \"55–59 dB\",\n",
    "    \"Lden_60_64\": \"60–64 dB\",\n",
    "    \"Lden_65_69\": \"65–69 dB\",\n",
    "    \"Lden_70_74\": \"70–74 dB\",\n",
    "    \"Lden_over_75\": \"75+ dB\"\n",
    "}\n",
    "\n",
    "exposure_cols = list(band_labels.keys())\n",
    "\n",
    "# Melt the dataframe\n",
    "df_melted = df_country.melt(\n",
    "    id_vars=\"Country\",\n",
    "    value_vars=exposure_cols,\n",
    "    var_name=\"Noise Band\",\n",
    "    value_name=\"Exposed\"\n",
    ")\n",
    "\n",
    "# Replace raw codes with nice labels\n",
    "df_melted[\"Noise Band\"] = df_melted[\"Noise Band\"].map(band_labels)\n",
    "\n",
    "# Create enhanced box plot\n",
    "fig3 = px.box(\n",
    "    df_melted,\n",
    "    x=\"Noise Band\",\n",
    "    y=\"Exposed\",\n",
    "    title=\"Distribution of Population Exposed by Noise Bands (All Countries)\",\n",
    "    labels={\"Exposed\": \"Population Exposed\"},\n",
    "    template=\"plotly_white\",\n",
    "    points=\"all\",          # Show all points\n",
    "    boxmode=\"overlay\"       # Overlay medians & distributions\n",
    ")\n",
    "\n",
    "# Add jittered scatter points for clarity\n",
    "fig3.add_trace(\n",
    "    px.strip(\n",
    "        df_melted,\n",
    "        x=\"Noise Band\",\n",
    "        y=\"Exposed\",\n",
    "        color_discrete_sequence=[\"rgba(0,0,0,0.4)\"], # grey transparent dots\n",
    "        stripmode=\"overlay\"\n",
    "    ).data[0]\n",
    ")\n",
    "\n",
    "# Layout adjustments\n",
    "fig3.update_layout(\n",
    "    title_x=0.5,\n",
    "    title_font=dict(size=20),\n",
    "    xaxis_title=\"Noise Exposure Band\",\n",
    "    yaxis_title=\"Population Exposed (log scale)\",\n",
    "    yaxis_type=\"log\"\n",
    ")\n",
    "\n",
    "# Save high-resolution\n",
    "fig3.write_image(\"viz3_distribution_noise_bands_log_jitter.png\", scale=3, width=2000, height=1200)\n",
    "fig3.show()\n",
    "\n"
   ]
  },
  {
   "cell_type": "code",
   "execution_count": 26,
   "id": "0f4b36b2-3b65-48dc-b4ca-44e1958189fd",
   "metadata": {},
   "outputs": [
    {
     "data": {
      "application/vnd.plotly.v1+json": {
       "config": {
        "plotlyServerURL": "https://plot.ly"
       },
       "data": [
        {
         "hovertemplate": "Noise Band=%{x}<br>Median Population Exposed=%{marker.color}<extra></extra>",
         "legendgroup": "",
         "marker": {
          "color": {
           "_inputArray": {
            "0": 950,
            "1": 300,
            "2": 50,
            "3": 0,
            "4": 0,
            "bdata": "AAAAAACwjUAAAAAAAMByQAAAAAAAAElAAAAAAAAAAAAAAAAAAAAAAA==",
            "dtype": "f8",
            "shape": "5"
           },
           "bdata": "AAAAAACwjUAAAAAAAMByQAAAAAAAAElAAAAAAAAAAAAAAAAAAAAAAA==",
           "dtype": "f8"
          },
          "coloraxis": "coloraxis",
          "pattern": {
           "shape": ""
          }
         },
         "name": "",
         "orientation": "v",
         "showlegend": false,
         "text": {
          "_inputArray": {
           "0": 950,
           "1": 300,
           "2": 50,
           "3": 0,
           "4": 0,
           "bdata": "AAAAAACwjUAAAAAAAMByQAAAAAAAAElAAAAAAAAAAAAAAAAAAAAAAA==",
           "dtype": "f8",
           "shape": "5"
          },
          "bdata": "AAAAAACwjUAAAAAAAMByQAAAAAAAAElAAAAAAAAAAAAAAAAAAAAAAA==",
          "dtype": "f8"
         },
         "textposition": "outside",
         "texttemplate": "%{text:,.0f}",
         "type": "bar",
         "x": [
          "55–59 dB",
          "60–64 dB",
          "65–69 dB",
          "70–74 dB",
          "75+ dB"
         ],
         "xaxis": "x",
         "y": {
          "_inputArray": {
           "0": 950,
           "1": 300,
           "2": 50,
           "3": 0,
           "4": 0,
           "bdata": "AAAAAACwjUAAAAAAAMByQAAAAAAAAElAAAAAAAAAAAAAAAAAAAAAAA==",
           "dtype": "f8",
           "shape": "5"
          },
          "bdata": "AAAAAACwjUAAAAAAAMByQAAAAAAAAElAAAAAAAAAAAAAAAAAAAAAAA==",
          "dtype": "f8"
         },
         "yaxis": "y"
        }
       ],
       "layout": {
        "autosize": true,
        "barmode": "relative",
        "coloraxis": {
         "colorbar": {
          "title": {
           "text": "Median Population Exposed"
          }
         },
         "colorscale": [
          [
           0,
           "rgb(247,251,255)"
          ],
          [
           0.125,
           "rgb(222,235,247)"
          ],
          [
           0.25,
           "rgb(198,219,239)"
          ],
          [
           0.375,
           "rgb(158,202,225)"
          ],
          [
           0.5,
           "rgb(107,174,214)"
          ],
          [
           0.625,
           "rgb(66,146,198)"
          ],
          [
           0.75,
           "rgb(33,113,181)"
          ],
          [
           0.875,
           "rgb(8,81,156)"
          ],
          [
           1,
           "rgb(8,48,107)"
          ]
         ]
        },
        "legend": {
         "tracegroupgap": 0
        },
        "template": {
         "data": {
          "bar": [
           {
            "error_x": {
             "color": "#2a3f5f"
            },
            "error_y": {
             "color": "#2a3f5f"
            },
            "marker": {
             "line": {
              "color": "white",
              "width": 0.5
             },
             "pattern": {
              "fillmode": "overlay",
              "size": 10,
              "solidity": 0.2
             }
            },
            "type": "bar"
           }
          ],
          "barpolar": [
           {
            "marker": {
             "line": {
              "color": "white",
              "width": 0.5
             },
             "pattern": {
              "fillmode": "overlay",
              "size": 10,
              "solidity": 0.2
             }
            },
            "type": "barpolar"
           }
          ],
          "carpet": [
           {
            "aaxis": {
             "endlinecolor": "#2a3f5f",
             "gridcolor": "#C8D4E3",
             "linecolor": "#C8D4E3",
             "minorgridcolor": "#C8D4E3",
             "startlinecolor": "#2a3f5f"
            },
            "baxis": {
             "endlinecolor": "#2a3f5f",
             "gridcolor": "#C8D4E3",
             "linecolor": "#C8D4E3",
             "minorgridcolor": "#C8D4E3",
             "startlinecolor": "#2a3f5f"
            },
            "type": "carpet"
           }
          ],
          "choropleth": [
           {
            "colorbar": {
             "outlinewidth": 0,
             "ticks": ""
            },
            "type": "choropleth"
           }
          ],
          "contour": [
           {
            "colorbar": {
             "outlinewidth": 0,
             "ticks": ""
            },
            "colorscale": [
             [
              0,
              "#0d0887"
             ],
             [
              0.1111111111111111,
              "#46039f"
             ],
             [
              0.2222222222222222,
              "#7201a8"
             ],
             [
              0.3333333333333333,
              "#9c179e"
             ],
             [
              0.4444444444444444,
              "#bd3786"
             ],
             [
              0.5555555555555556,
              "#d8576b"
             ],
             [
              0.6666666666666666,
              "#ed7953"
             ],
             [
              0.7777777777777778,
              "#fb9f3a"
             ],
             [
              0.8888888888888888,
              "#fdca26"
             ],
             [
              1,
              "#f0f921"
             ]
            ],
            "type": "contour"
           }
          ],
          "contourcarpet": [
           {
            "colorbar": {
             "outlinewidth": 0,
             "ticks": ""
            },
            "type": "contourcarpet"
           }
          ],
          "heatmap": [
           {
            "colorbar": {
             "outlinewidth": 0,
             "ticks": ""
            },
            "colorscale": [
             [
              0,
              "#0d0887"
             ],
             [
              0.1111111111111111,
              "#46039f"
             ],
             [
              0.2222222222222222,
              "#7201a8"
             ],
             [
              0.3333333333333333,
              "#9c179e"
             ],
             [
              0.4444444444444444,
              "#bd3786"
             ],
             [
              0.5555555555555556,
              "#d8576b"
             ],
             [
              0.6666666666666666,
              "#ed7953"
             ],
             [
              0.7777777777777778,
              "#fb9f3a"
             ],
             [
              0.8888888888888888,
              "#fdca26"
             ],
             [
              1,
              "#f0f921"
             ]
            ],
            "type": "heatmap"
           }
          ],
          "histogram": [
           {
            "marker": {
             "pattern": {
              "fillmode": "overlay",
              "size": 10,
              "solidity": 0.2
             }
            },
            "type": "histogram"
           }
          ],
          "histogram2d": [
           {
            "colorbar": {
             "outlinewidth": 0,
             "ticks": ""
            },
            "colorscale": [
             [
              0,
              "#0d0887"
             ],
             [
              0.1111111111111111,
              "#46039f"
             ],
             [
              0.2222222222222222,
              "#7201a8"
             ],
             [
              0.3333333333333333,
              "#9c179e"
             ],
             [
              0.4444444444444444,
              "#bd3786"
             ],
             [
              0.5555555555555556,
              "#d8576b"
             ],
             [
              0.6666666666666666,
              "#ed7953"
             ],
             [
              0.7777777777777778,
              "#fb9f3a"
             ],
             [
              0.8888888888888888,
              "#fdca26"
             ],
             [
              1,
              "#f0f921"
             ]
            ],
            "type": "histogram2d"
           }
          ],
          "histogram2dcontour": [
           {
            "colorbar": {
             "outlinewidth": 0,
             "ticks": ""
            },
            "colorscale": [
             [
              0,
              "#0d0887"
             ],
             [
              0.1111111111111111,
              "#46039f"
             ],
             [
              0.2222222222222222,
              "#7201a8"
             ],
             [
              0.3333333333333333,
              "#9c179e"
             ],
             [
              0.4444444444444444,
              "#bd3786"
             ],
             [
              0.5555555555555556,
              "#d8576b"
             ],
             [
              0.6666666666666666,
              "#ed7953"
             ],
             [
              0.7777777777777778,
              "#fb9f3a"
             ],
             [
              0.8888888888888888,
              "#fdca26"
             ],
             [
              1,
              "#f0f921"
             ]
            ],
            "type": "histogram2dcontour"
           }
          ],
          "mesh3d": [
           {
            "colorbar": {
             "outlinewidth": 0,
             "ticks": ""
            },
            "type": "mesh3d"
           }
          ],
          "parcoords": [
           {
            "line": {
             "colorbar": {
              "outlinewidth": 0,
              "ticks": ""
             }
            },
            "type": "parcoords"
           }
          ],
          "pie": [
           {
            "automargin": true,
            "type": "pie"
           }
          ],
          "scatter": [
           {
            "fillpattern": {
             "fillmode": "overlay",
             "size": 10,
             "solidity": 0.2
            },
            "type": "scatter"
           }
          ],
          "scatter3d": [
           {
            "line": {
             "colorbar": {
              "outlinewidth": 0,
              "ticks": ""
             }
            },
            "marker": {
             "colorbar": {
              "outlinewidth": 0,
              "ticks": ""
             }
            },
            "type": "scatter3d"
           }
          ],
          "scattercarpet": [
           {
            "marker": {
             "colorbar": {
              "outlinewidth": 0,
              "ticks": ""
             }
            },
            "type": "scattercarpet"
           }
          ],
          "scattergeo": [
           {
            "marker": {
             "colorbar": {
              "outlinewidth": 0,
              "ticks": ""
             }
            },
            "type": "scattergeo"
           }
          ],
          "scattergl": [
           {
            "marker": {
             "colorbar": {
              "outlinewidth": 0,
              "ticks": ""
             }
            },
            "type": "scattergl"
           }
          ],
          "scattermap": [
           {
            "marker": {
             "colorbar": {
              "outlinewidth": 0,
              "ticks": ""
             }
            },
            "type": "scattermap"
           }
          ],
          "scattermapbox": [
           {
            "marker": {
             "colorbar": {
              "outlinewidth": 0,
              "ticks": ""
             }
            },
            "type": "scattermapbox"
           }
          ],
          "scatterpolar": [
           {
            "marker": {
             "colorbar": {
              "outlinewidth": 0,
              "ticks": ""
             }
            },
            "type": "scatterpolar"
           }
          ],
          "scatterpolargl": [
           {
            "marker": {
             "colorbar": {
              "outlinewidth": 0,
              "ticks": ""
             }
            },
            "type": "scatterpolargl"
           }
          ],
          "scatterternary": [
           {
            "marker": {
             "colorbar": {
              "outlinewidth": 0,
              "ticks": ""
             }
            },
            "type": "scatterternary"
           }
          ],
          "surface": [
           {
            "colorbar": {
             "outlinewidth": 0,
             "ticks": ""
            },
            "colorscale": [
             [
              0,
              "#0d0887"
             ],
             [
              0.1111111111111111,
              "#46039f"
             ],
             [
              0.2222222222222222,
              "#7201a8"
             ],
             [
              0.3333333333333333,
              "#9c179e"
             ],
             [
              0.4444444444444444,
              "#bd3786"
             ],
             [
              0.5555555555555556,
              "#d8576b"
             ],
             [
              0.6666666666666666,
              "#ed7953"
             ],
             [
              0.7777777777777778,
              "#fb9f3a"
             ],
             [
              0.8888888888888888,
              "#fdca26"
             ],
             [
              1,
              "#f0f921"
             ]
            ],
            "type": "surface"
           }
          ],
          "table": [
           {
            "cells": {
             "fill": {
              "color": "#EBF0F8"
             },
             "line": {
              "color": "white"
             }
            },
            "header": {
             "fill": {
              "color": "#C8D4E3"
             },
             "line": {
              "color": "white"
             }
            },
            "type": "table"
           }
          ]
         },
         "layout": {
          "annotationdefaults": {
           "arrowcolor": "#2a3f5f",
           "arrowhead": 0,
           "arrowwidth": 1
          },
          "autotypenumbers": "strict",
          "coloraxis": {
           "colorbar": {
            "outlinewidth": 0,
            "ticks": ""
           }
          },
          "colorscale": {
           "diverging": [
            [
             0,
             "#8e0152"
            ],
            [
             0.1,
             "#c51b7d"
            ],
            [
             0.2,
             "#de77ae"
            ],
            [
             0.3,
             "#f1b6da"
            ],
            [
             0.4,
             "#fde0ef"
            ],
            [
             0.5,
             "#f7f7f7"
            ],
            [
             0.6,
             "#e6f5d0"
            ],
            [
             0.7,
             "#b8e186"
            ],
            [
             0.8,
             "#7fbc41"
            ],
            [
             0.9,
             "#4d9221"
            ],
            [
             1,
             "#276419"
            ]
           ],
           "sequential": [
            [
             0,
             "#0d0887"
            ],
            [
             0.1111111111111111,
             "#46039f"
            ],
            [
             0.2222222222222222,
             "#7201a8"
            ],
            [
             0.3333333333333333,
             "#9c179e"
            ],
            [
             0.4444444444444444,
             "#bd3786"
            ],
            [
             0.5555555555555556,
             "#d8576b"
            ],
            [
             0.6666666666666666,
             "#ed7953"
            ],
            [
             0.7777777777777778,
             "#fb9f3a"
            ],
            [
             0.8888888888888888,
             "#fdca26"
            ],
            [
             1,
             "#f0f921"
            ]
           ],
           "sequentialminus": [
            [
             0,
             "#0d0887"
            ],
            [
             0.1111111111111111,
             "#46039f"
            ],
            [
             0.2222222222222222,
             "#7201a8"
            ],
            [
             0.3333333333333333,
             "#9c179e"
            ],
            [
             0.4444444444444444,
             "#bd3786"
            ],
            [
             0.5555555555555556,
             "#d8576b"
            ],
            [
             0.6666666666666666,
             "#ed7953"
            ],
            [
             0.7777777777777778,
             "#fb9f3a"
            ],
            [
             0.8888888888888888,
             "#fdca26"
            ],
            [
             1,
             "#f0f921"
            ]
           ]
          },
          "colorway": [
           "#636efa",
           "#EF553B",
           "#00cc96",
           "#ab63fa",
           "#FFA15A",
           "#19d3f3",
           "#FF6692",
           "#B6E880",
           "#FF97FF",
           "#FECB52"
          ],
          "font": {
           "color": "#2a3f5f"
          },
          "geo": {
           "bgcolor": "white",
           "lakecolor": "white",
           "landcolor": "white",
           "showlakes": true,
           "showland": true,
           "subunitcolor": "#C8D4E3"
          },
          "hoverlabel": {
           "align": "left"
          },
          "hovermode": "closest",
          "mapbox": {
           "style": "light"
          },
          "paper_bgcolor": "white",
          "plot_bgcolor": "white",
          "polar": {
           "angularaxis": {
            "gridcolor": "#EBF0F8",
            "linecolor": "#EBF0F8",
            "ticks": ""
           },
           "bgcolor": "white",
           "radialaxis": {
            "gridcolor": "#EBF0F8",
            "linecolor": "#EBF0F8",
            "ticks": ""
           }
          },
          "scene": {
           "xaxis": {
            "backgroundcolor": "white",
            "gridcolor": "#DFE8F3",
            "gridwidth": 2,
            "linecolor": "#EBF0F8",
            "showbackground": true,
            "ticks": "",
            "zerolinecolor": "#EBF0F8"
           },
           "yaxis": {
            "backgroundcolor": "white",
            "gridcolor": "#DFE8F3",
            "gridwidth": 2,
            "linecolor": "#EBF0F8",
            "showbackground": true,
            "ticks": "",
            "zerolinecolor": "#EBF0F8"
           },
           "zaxis": {
            "backgroundcolor": "white",
            "gridcolor": "#DFE8F3",
            "gridwidth": 2,
            "linecolor": "#EBF0F8",
            "showbackground": true,
            "ticks": "",
            "zerolinecolor": "#EBF0F8"
           }
          },
          "shapedefaults": {
           "line": {
            "color": "#2a3f5f"
           }
          },
          "ternary": {
           "aaxis": {
            "gridcolor": "#DFE8F3",
            "linecolor": "#A2B1C6",
            "ticks": ""
           },
           "baxis": {
            "gridcolor": "#DFE8F3",
            "linecolor": "#A2B1C6",
            "ticks": ""
           },
           "bgcolor": "white",
           "caxis": {
            "gridcolor": "#DFE8F3",
            "linecolor": "#A2B1C6",
            "ticks": ""
           }
          },
          "title": {
           "x": 0.05
          },
          "xaxis": {
           "automargin": true,
           "gridcolor": "#EBF0F8",
           "linecolor": "#EBF0F8",
           "ticks": "",
           "title": {
            "standoff": 15
           },
           "zerolinecolor": "#EBF0F8",
           "zerolinewidth": 2
          },
          "yaxis": {
           "automargin": true,
           "gridcolor": "#EBF0F8",
           "linecolor": "#EBF0F8",
           "ticks": "",
           "title": {
            "standoff": 15
           },
           "zerolinecolor": "#EBF0F8",
           "zerolinewidth": 2
          }
         }
        },
        "title": {
         "font": {
          "size": 20
         },
         "text": "Median Exposed Population by Noise Band (Across Countries)",
         "x": 0.5
        },
        "xaxis": {
         "anchor": "y",
         "autorange": true,
         "domain": [
          0,
          1
         ],
         "range": [
          -0.5,
          4.5
         ],
         "title": {
          "text": "Noise Band"
         },
         "type": "category"
        },
        "yaxis": {
         "anchor": "x",
         "autorange": true,
         "domain": [
          0,
          1
         ],
         "range": [
          0,
          1000
         ],
         "title": {
          "text": "Median Population Exposed"
         },
         "type": "linear"
        }
       }
      },
      "image/png": "[encoded data removed]"
     },
     "metadata": {},
     "output_type": "display_data"
    }
   ],
   "source": [
    "# --- Calculate median exposure per noise band ---\n",
    "band_medians = (\n",
    "    df_melted.groupby(\"Noise Band\")[\"Exposed\"]\n",
    "    .median()\n",
    "    .sort_values(ascending=False)\n",
    "    .reset_index()\n",
    ")\n",
    "\n",
    "# --- Create bar chart ---\n",
    "fig4 = px.bar(\n",
    "    band_medians,\n",
    "    x=\"Noise Band\",\n",
    "    y=\"Exposed\",\n",
    "    title=\"Median Exposed Population by Noise Band (Across Countries)\",\n",
    "    labels={\"Exposed\": \"Median Population Exposed\"},\n",
    "    text=\"Exposed\",\n",
    "    template=\"plotly_white\",\n",
    "    color=\"Exposed\",\n",
    "    color_continuous_scale=\"Blues\"\n",
    ")\n",
    "\n",
    "fig4.update_traces(texttemplate=\"%{text:,.0f}\", textposition=\"outside\")\n",
    "fig4.update_layout(title_x=0.5, title_font=dict(size=20))\n",
    "\n",
    "# --- Save as high-resolution PNG ---\n",
    "fig4.write_image(\n",
    "    \"viz4_median_population_by_noise_band.png\",\n",
    "    scale=3,  # higher scale = sharper image\n",
    "    width=1000,\n",
    "    height=600\n",
    ")\n",
    "\n",
    "\n",
    "fig4.show()\n",
    "\n"
   ]
  },
  {
   "cell_type": "markdown",
   "id": "8db2d90a-eace-4190-9026-dcc8878d8a62",
   "metadata": {},
   "source": [
    "### Visualization 5: Noise Exposure Distribution (stacked bar per country)\n",
    "“Finally, this stacked chart shows not just how many are exposed, but how severely. Some countries have a large portion of people in the very high noise bands (above 70 dB), which can signal chronic health concerns.”"
   ]
  },
  {
   "cell_type": "code",
   "execution_count": 30,
   "id": "330ade47-0ff1-4945-b4ce-ff1accfd796f",
   "metadata": {},
   "outputs": [
    {
     "name": "stderr",
     "output_type": "stream",
     "text": [
      "C:\\Users\\amali\\AppData\\Local\\Temp\\ipykernel_19768\\1553789615.py:31: FutureWarning:\n",
      "\n",
      "DataFrame.applymap has been deprecated. Use DataFrame.map instead.\n",
      "\n"
     ]
    },
    {
     "data": {
      "application/vnd.plotly.v1+json": {
       "config": {
        "plotlyServerURL": "https://plot.ly"
       },
       "data": [
        {
         "coloraxis": "coloraxis",
         "hovertemplate": "Noise Band: %{x}<br>Country: %{y}<br>% of Population Exposed: %{z}<extra></extra>",
         "name": "0",
         "type": "heatmap",
         "x": [
          "55–59 dB",
          "60–64 dB",
          "65–69 dB",
          "70–74 dB",
          "≥ 75 dB"
         ],
         "xaxis": "x",
         "y": [
          "Austria",
          "Belgium",
          "Bulgaria",
          "Croatia",
          "Cyprus",
          "Czech Republic",
          "Denmark",
          "Estonia",
          "Finland",
          "France",
          "Germany",
          "Greece",
          "Hungary",
          "Iceland",
          "Ireland",
          "Italy",
          "Latvia",
          "Liechtenstein",
          "Lithuania",
          "Luxembourg",
          "Malta",
          "Netherlands",
          "Norway",
          "Poland",
          "Portugal",
          "Romania",
          "Slovakia",
          "Slovenia",
          "Spain",
          "Sweden",
          "Switzerland",
          "Turkey"
         ],
         "yaxis": "y",
         "z": {
          "_inputArray": [
           {
            "0": 0.14,
            "1": 0.03,
            "2": 0.01,
            "3": 0,
            "4": 0
           },
           {
            "0": 0.81,
            "1": 0.34,
            "2": 0.13,
            "3": 0.05,
            "4": 0.02
           },
           {
            "0": 0,
            "1": 0,
            "2": 0,
            "3": 0,
            "4": 0
           },
           {
            "0": 0.01,
            "1": 0,
            "2": 0,
            "3": 0,
            "4": 0
           },
           {
            "0": 1.52,
            "1": 0.23,
            "2": 0.07,
            "3": 0.03,
            "4": 0
           },
           {
            "0": 0.05,
            "1": 0.02,
            "2": 0.01,
            "3": 0,
            "4": 0
           },
           {
            "0": 0.02,
            "1": 0,
            "2": 0,
            "3": 0,
            "4": 0
           },
           {
            "0": 0.37,
            "1": 0.17,
            "2": 0.02,
            "3": 0.02,
            "4": 0.07
           },
           {
            "0": 0,
            "1": 0,
            "2": 0,
            "3": 0,
            "4": 0
           },
           {
            "0": 0.42,
            "1": 0.2,
            "2": 0.07,
            "3": 0.02,
            "4": 0.01
           },
           {
            "0": 0.27,
            "1": 0.07,
            "2": 0.02,
            "3": 0.01,
            "4": 0
           },
           {
            "0": null,
            "1": null,
            "2": null,
            "3": null,
            "4": null
           },
           {
            "0": 0,
            "1": 0,
            "2": 0,
            "3": 0,
            "4": 0
           },
           {
            "0": null,
            "1": null,
            "2": null,
            "3": null,
            "4": null
           },
           {
            "0": 0.18,
            "1": 0.05,
            "2": 0.02,
            "3": 0,
            "4": 0
           },
           {
            "0": 0.23,
            "1": 0.16,
            "2": 0.07,
            "3": 0.05,
            "4": 0.01
           },
           {
            "0": 1.16,
            "1": 0.49,
            "2": 0.05,
            "3": 0,
            "4": 0
           },
           {
            "0": null,
            "1": null,
            "2": null,
            "3": null,
            "4": null
           },
           {
            "0": 0.07,
            "1": 0.02,
            "2": 0,
            "3": 0,
            "4": 0
           },
           {
            "0": 2.26,
            "1": 0.66,
            "2": 0.08,
            "3": 0,
            "4": 0
           },
           {
            "0": 0,
            "1": 0,
            "2": 0,
            "3": 0,
            "4": 0
           },
           {
            "0": 0.54,
            "1": 0.06,
            "2": 0.01,
            "3": 0,
            "4": 0
           },
           {
            "0": 0,
            "1": 0,
            "2": 0,
            "3": 0,
            "4": 0
           },
           {
            "0": 0.09,
            "1": 0.02,
            "2": 0,
            "3": 0,
            "4": 0
           },
           {
            "0": 0.08,
            "1": 0.03,
            "2": 0.01,
            "3": 0,
            "4": 0
           },
           {
            "0": 0.05,
            "1": 0.02,
            "2": 0,
            "3": 0,
            "4": 0
           },
           {
            "0": 0,
            "1": 0,
            "2": 0,
            "3": 0,
            "4": 0
           },
           {
            "0": 0,
            "1": 0,
            "2": 0,
            "3": 0,
            "4": 0
           },
           {
            "0": 0.06,
            "1": 0.03,
            "2": 0.01,
            "3": 0,
            "4": 0
           },
           {
            "0": 0,
            "1": 0,
            "2": 0,
            "3": 0,
            "4": 0
           },
           {
            "0": 0,
            "1": 0,
            "2": 0,
            "3": 0,
            "4": 0
           },
           {
            "0": null,
            "1": null,
            "2": null,
            "3": null,
            "4": null
           }
          ],
          "bdata": "7FG4HoXrwT+4HoXrUbieP3sUrkfheoQ/AAAAAAAAAAAAAAAAAAAAAOxRuB6F6+k/w/UoXI/C1T+kcD0K16PAP5qZmZmZmak/exSuR+F6lD8AAAAAAAAAAAAAAAAAAAAAAAAAAAAAAAAAAAAAAAAAAAAAAAAAAAAAexSuR+F6hD8AAAAAAAAAAAAAAAAAAAAAAAAAAAAAAAAAAAAAAAAAAFK4HoXrUfg/cT0K16NwzT/sUbgeheuxP7gehetRuJ4/AAAAAAAAAACamZmZmZmpP3sUrkfhepQ/exSuR+F6hD8AAAAAAAAAAAAAAAAAAAAAexSuR+F6lD8AAAAAAAAAAAAAAAAAAAAAAAAAAAAAAAAAAAAAAAAAAK5H4XoUrtc/w/UoXI/CxT97FK5H4XqUP3sUrkfhepQ/7FG4HoXrsT8AAAAAAAAAAAAAAAAAAAAAAAAAAAAAAAAAAAAAAAAAAAAAAAAAAAAA4XoUrkfh2j+amZmZmZnJP+xRuB6F67E/exSuR+F6lD97FK5H4XqEP0jhehSuR9E/7FG4HoXrsT97FK5H4XqUP3sUrkfheoQ/AAAAAAAAAAAAAAAAAAD4fwAAAAAAAPh/AAAAAAAA+H8AAAAAAAD4fwAAAAAAAPh/AAAAAAAAAAAAAAAAAAAAAAAAAAAAAAAAAAAAAAAAAAAAAAAAAAAAAAAAAAAAAPh/AAAAAAAA+H8AAAAAAAD4fwAAAAAAAPh/AAAAAAAA+H8K16NwPQrHP5qZmZmZmak/exSuR+F6lD8AAAAAAAAAAAAAAAAAAAAAcT0K16NwzT97FK5H4XrEP+xRuB6F67E/mpmZmZmZqT97FK5H4XqEP4/C9Shcj/I/XI/C9Shc3z+amZmZmZmpPwAAAAAAAAAAAAAAAAAAAAAAAAAAAAD4fwAAAAAAAPh/AAAAAAAA+H8AAAAAAAD4fwAAAAAAAPh/7FG4HoXrsT97FK5H4XqUPwAAAAAAAAAAAAAAAAAAAAAAAAAAAAAAABSuR+F6FAJAH4XrUbge5T97FK5H4Xq0PwAAAAAAAAAAAAAAAAAAAAAAAAAAAAAAAAAAAAAAAAAAAAAAAAAAAAAAAAAAAAAAAAAAAAAAAAAASOF6FK5H4T+4HoXrUbiuP3sUrkfheoQ/AAAAAAAAAAAAAAAAAAAAAAAAAAAAAAAAAAAAAAAAAAAAAAAAAAAAAAAAAAAAAAAAAAAAAAAAAAAK16NwPQq3P3sUrkfhepQ/AAAAAAAAAAAAAAAAAAAAAAAAAAAAAAAAexSuR+F6tD+4HoXrUbieP3sUrkfheoQ/AAAAAAAAAAAAAAAAAAAAAJqZmZmZmak/exSuR+F6lD8AAAAAAAAAAAAAAAAAAAAAAAAAAAAAAAAAAAAAAAAAAAAAAAAAAAAAAAAAAAAAAAAAAAAAAAAAAAAAAAAAAAAAAAAAAAAAAAAAAAAAAAAAAAAAAAAAAAAAAAAAAAAAAAAAAAAAAAAAALgehetRuK4/uB6F61G4nj97FK5H4XqEPwAAAAAAAAAAAAAAAAAAAAAAAAAAAAAAAAAAAAAAAAAAAAAAAAAAAAAAAAAAAAAAAAAAAAAAAAAAAAAAAAAAAAAAAAAAAAAAAAAAAAAAAAAAAAAAAAAAAAAAAAAAAAAAAAAAAAAAAPh/AAAAAAAA+H8AAAAAAAD4fwAAAAAAAPh/AAAAAAAA+H8=",
          "dtype": "f8",
          "shape": "32, 5"
         }
        }
       ],
       "layout": {
        "annotations": [
         {
          "font": {
           "color": "black",
           "size": 12
          },
          "showarrow": false,
          "text": "1%",
          "x": "55–59 dB",
          "y": "Belgium"
         },
         {
          "font": {
           "color": "black",
           "size": 12
          },
          "showarrow": false,
          "text": "2%",
          "x": "55–59 dB",
          "y": "Cyprus"
         },
         {
          "font": {
           "color": "black",
           "size": 12
          },
          "showarrow": false,
          "text": "1%",
          "x": "55–59 dB",
          "y": "Latvia"
         },
         {
          "font": {
           "color": "black",
           "size": 12
          },
          "showarrow": false,
          "text": "2%",
          "x": "55–59 dB",
          "y": "Luxembourg"
         },
         {
          "font": {
           "color": "black",
           "size": 12
          },
          "showarrow": false,
          "text": "1%",
          "x": "60–64 dB",
          "y": "Luxembourg"
         },
         {
          "font": {
           "color": "black",
           "size": 12
          },
          "showarrow": false,
          "text": "1%",
          "x": "55–59 dB",
          "y": "Netherlands"
         }
        ],
        "autosize": true,
        "coloraxis": {
         "colorbar": {
          "title": {
           "text": "% of Population Exposed"
          }
         },
         "colorscale": [
          [
           0,
           "rgb(255,245,240)"
          ],
          [
           0.125,
           "rgb(254,224,210)"
          ],
          [
           0.25,
           "rgb(252,187,161)"
          ],
          [
           0.375,
           "rgb(252,146,114)"
          ],
          [
           0.5,
           "rgb(251,106,74)"
          ],
          [
           0.625,
           "rgb(239,59,44)"
          ],
          [
           0.75,
           "rgb(203,24,29)"
          ],
          [
           0.875,
           "rgb(165,15,21)"
          ],
          [
           1,
           "rgb(103,0,13)"
          ]
         ]
        },
        "dragmode": "pan",
        "margin": {
         "b": 40,
         "l": 40,
         "r": 40,
         "t": 60
        },
        "template": {
         "data": {
          "bar": [
           {
            "error_x": {
             "color": "#2a3f5f"
            },
            "error_y": {
             "color": "#2a3f5f"
            },
            "marker": {
             "line": {
              "color": "white",
              "width": 0.5
             },
             "pattern": {
              "fillmode": "overlay",
              "size": 10,
              "solidity": 0.2
             }
            },
            "type": "bar"
           }
          ],
          "barpolar": [
           {
            "marker": {
             "line": {
              "color": "white",
              "width": 0.5
             },
             "pattern": {
              "fillmode": "overlay",
              "size": 10,
              "solidity": 0.2
             }
            },
            "type": "barpolar"
           }
          ],
          "carpet": [
           {
            "aaxis": {
             "endlinecolor": "#2a3f5f",
             "gridcolor": "#C8D4E3",
             "linecolor": "#C8D4E3",
             "minorgridcolor": "#C8D4E3",
             "startlinecolor": "#2a3f5f"
            },
            "baxis": {
             "endlinecolor": "#2a3f5f",
             "gridcolor": "#C8D4E3",
             "linecolor": "#C8D4E3",
             "minorgridcolor": "#C8D4E3",
             "startlinecolor": "#2a3f5f"
            },
            "type": "carpet"
           }
          ],
          "choropleth": [
           {
            "colorbar": {
             "outlinewidth": 0,
             "ticks": ""
            },
            "type": "choropleth"
           }
          ],
          "contour": [
           {
            "colorbar": {
             "outlinewidth": 0,
             "ticks": ""
            },
            "colorscale": [
             [
              0,
              "#0d0887"
             ],
             [
              0.1111111111111111,
              "#46039f"
             ],
             [
              0.2222222222222222,
              "#7201a8"
             ],
             [
              0.3333333333333333,
              "#9c179e"
             ],
             [
              0.4444444444444444,
              "#bd3786"
             ],
             [
              0.5555555555555556,
              "#d8576b"
             ],
             [
              0.6666666666666666,
              "#ed7953"
             ],
             [
              0.7777777777777778,
              "#fb9f3a"
             ],
             [
              0.8888888888888888,
              "#fdca26"
             ],
             [
              1,
              "#f0f921"
             ]
            ],
            "type": "contour"
           }
          ],
          "contourcarpet": [
           {
            "colorbar": {
             "outlinewidth": 0,
             "ticks": ""
            },
            "type": "contourcarpet"
           }
          ],
          "heatmap": [
           {
            "colorbar": {
             "outlinewidth": 0,
             "ticks": ""
            },
            "colorscale": [
             [
              0,
              "#0d0887"
             ],
             [
              0.1111111111111111,
              "#46039f"
             ],
             [
              0.2222222222222222,
              "#7201a8"
             ],
             [
              0.3333333333333333,
              "#9c179e"
             ],
             [
              0.4444444444444444,
              "#bd3786"
             ],
             [
              0.5555555555555556,
              "#d8576b"
             ],
             [
              0.6666666666666666,
              "#ed7953"
             ],
             [
              0.7777777777777778,
              "#fb9f3a"
             ],
             [
              0.8888888888888888,
              "#fdca26"
             ],
             [
              1,
              "#f0f921"
             ]
            ],
            "type": "heatmap"
           }
          ],
          "histogram": [
           {
            "marker": {
             "pattern": {
              "fillmode": "overlay",
              "size": 10,
              "solidity": 0.2
             }
            },
            "type": "histogram"
           }
          ],
          "histogram2d": [
           {
            "colorbar": {
             "outlinewidth": 0,
             "ticks": ""
            },
            "colorscale": [
             [
              0,
              "#0d0887"
             ],
             [
              0.1111111111111111,
              "#46039f"
             ],
             [
              0.2222222222222222,
              "#7201a8"
             ],
             [
              0.3333333333333333,
              "#9c179e"
             ],
             [
              0.4444444444444444,
              "#bd3786"
             ],
             [
              0.5555555555555556,
              "#d8576b"
             ],
             [
              0.6666666666666666,
              "#ed7953"
             ],
             [
              0.7777777777777778,
              "#fb9f3a"
             ],
             [
              0.8888888888888888,
              "#fdca26"
             ],
             [
              1,
              "#f0f921"
             ]
            ],
            "type": "histogram2d"
           }
          ],
          "histogram2dcontour": [
           {
            "colorbar": {
             "outlinewidth": 0,
             "ticks": ""
            },
            "colorscale": [
             [
              0,
              "#0d0887"
             ],
             [
              0.1111111111111111,
              "#46039f"
             ],
             [
              0.2222222222222222,
              "#7201a8"
             ],
             [
              0.3333333333333333,
              "#9c179e"
             ],
             [
              0.4444444444444444,
              "#bd3786"
             ],
             [
              0.5555555555555556,
              "#d8576b"
             ],
             [
              0.6666666666666666,
              "#ed7953"
             ],
             [
              0.7777777777777778,
              "#fb9f3a"
             ],
             [
              0.8888888888888888,
              "#fdca26"
             ],
             [
              1,
              "#f0f921"
             ]
            ],
            "type": "histogram2dcontour"
           }
          ],
          "mesh3d": [
           {
            "colorbar": {
             "outlinewidth": 0,
             "ticks": ""
            },
            "type": "mesh3d"
           }
          ],
          "parcoords": [
           {
            "line": {
             "colorbar": {
              "outlinewidth": 0,
              "ticks": ""
             }
            },
            "type": "parcoords"
           }
          ],
          "pie": [
           {
            "automargin": true,
            "type": "pie"
           }
          ],
          "scatter": [
           {
            "fillpattern": {
             "fillmode": "overlay",
             "size": 10,
             "solidity": 0.2
            },
            "type": "scatter"
           }
          ],
          "scatter3d": [
           {
            "line": {
             "colorbar": {
              "outlinewidth": 0,
              "ticks": ""
             }
            },
            "marker": {
             "colorbar": {
              "outlinewidth": 0,
              "ticks": ""
             }
            },
            "type": "scatter3d"
           }
          ],
          "scattercarpet": [
           {
            "marker": {
             "colorbar": {
              "outlinewidth": 0,
              "ticks": ""
             }
            },
            "type": "scattercarpet"
           }
          ],
          "scattergeo": [
           {
            "marker": {
             "colorbar": {
              "outlinewidth": 0,
              "ticks": ""
             }
            },
            "type": "scattergeo"
           }
          ],
          "scattergl": [
           {
            "marker": {
             "colorbar": {
              "outlinewidth": 0,
              "ticks": ""
             }
            },
            "type": "scattergl"
           }
          ],
          "scattermap": [
           {
            "marker": {
             "colorbar": {
              "outlinewidth": 0,
              "ticks": ""
             }
            },
            "type": "scattermap"
           }
          ],
          "scattermapbox": [
           {
            "marker": {
             "colorbar": {
              "outlinewidth": 0,
              "ticks": ""
             }
            },
            "type": "scattermapbox"
           }
          ],
          "scatterpolar": [
           {
            "marker": {
             "colorbar": {
              "outlinewidth": 0,
              "ticks": ""
             }
            },
            "type": "scatterpolar"
           }
          ],
          "scatterpolargl": [
           {
            "marker": {
             "colorbar": {
              "outlinewidth": 0,
              "ticks": ""
             }
            },
            "type": "scatterpolargl"
           }
          ],
          "scatterternary": [
           {
            "marker": {
             "colorbar": {
              "outlinewidth": 0,
              "ticks": ""
             }
            },
            "type": "scatterternary"
           }
          ],
          "surface": [
           {
            "colorbar": {
             "outlinewidth": 0,
             "ticks": ""
            },
            "colorscale": [
             [
              0,
              "#0d0887"
             ],
             [
              0.1111111111111111,
              "#46039f"
             ],
             [
              0.2222222222222222,
              "#7201a8"
             ],
             [
              0.3333333333333333,
              "#9c179e"
             ],
             [
              0.4444444444444444,
              "#bd3786"
             ],
             [
              0.5555555555555556,
              "#d8576b"
             ],
             [
              0.6666666666666666,
              "#ed7953"
             ],
             [
              0.7777777777777778,
              "#fb9f3a"
             ],
             [
              0.8888888888888888,
              "#fdca26"
             ],
             [
              1,
              "#f0f921"
             ]
            ],
            "type": "surface"
           }
          ],
          "table": [
           {
            "cells": {
             "fill": {
              "color": "#EBF0F8"
             },
             "line": {
              "color": "white"
             }
            },
            "header": {
             "fill": {
              "color": "#C8D4E3"
             },
             "line": {
              "color": "white"
             }
            },
            "type": "table"
           }
          ]
         },
         "layout": {
          "annotationdefaults": {
           "arrowcolor": "#2a3f5f",
           "arrowhead": 0,
           "arrowwidth": 1
          },
          "autotypenumbers": "strict",
          "coloraxis": {
           "colorbar": {
            "outlinewidth": 0,
            "ticks": ""
           }
          },
          "colorscale": {
           "diverging": [
            [
             0,
             "#8e0152"
            ],
            [
             0.1,
             "#c51b7d"
            ],
            [
             0.2,
             "#de77ae"
            ],
            [
             0.3,
             "#f1b6da"
            ],
            [
             0.4,
             "#fde0ef"
            ],
            [
             0.5,
             "#f7f7f7"
            ],
            [
             0.6,
             "#e6f5d0"
            ],
            [
             0.7,
             "#b8e186"
            ],
            [
             0.8,
             "#7fbc41"
            ],
            [
             0.9,
             "#4d9221"
            ],
            [
             1,
             "#276419"
            ]
           ],
           "sequential": [
            [
             0,
             "#0d0887"
            ],
            [
             0.1111111111111111,
             "#46039f"
            ],
            [
             0.2222222222222222,
             "#7201a8"
            ],
            [
             0.3333333333333333,
             "#9c179e"
            ],
            [
             0.4444444444444444,
             "#bd3786"
            ],
            [
             0.5555555555555556,
             "#d8576b"
            ],
            [
             0.6666666666666666,
             "#ed7953"
            ],
            [
             0.7777777777777778,
             "#fb9f3a"
            ],
            [
             0.8888888888888888,
             "#fdca26"
            ],
            [
             1,
             "#f0f921"
            ]
           ],
           "sequentialminus": [
            [
             0,
             "#0d0887"
            ],
            [
             0.1111111111111111,
             "#46039f"
            ],
            [
             0.2222222222222222,
             "#7201a8"
            ],
            [
             0.3333333333333333,
             "#9c179e"
            ],
            [
             0.4444444444444444,
             "#bd3786"
            ],
            [
             0.5555555555555556,
             "#d8576b"
            ],
            [
             0.6666666666666666,
             "#ed7953"
            ],
            [
             0.7777777777777778,
             "#fb9f3a"
            ],
            [
             0.8888888888888888,
             "#fdca26"
            ],
            [
             1,
             "#f0f921"
            ]
           ]
          },
          "colorway": [
           "#636efa",
           "#EF553B",
           "#00cc96",
           "#ab63fa",
           "#FFA15A",
           "#19d3f3",
           "#FF6692",
           "#B6E880",
           "#FF97FF",
           "#FECB52"
          ],
          "font": {
           "color": "#2a3f5f"
          },
          "geo": {
           "bgcolor": "white",
           "lakecolor": "white",
           "landcolor": "white",
           "showlakes": true,
           "showland": true,
           "subunitcolor": "#C8D4E3"
          },
          "hoverlabel": {
           "align": "left"
          },
          "hovermode": "closest",
          "mapbox": {
           "style": "light"
          },
          "paper_bgcolor": "white",
          "plot_bgcolor": "white",
          "polar": {
           "angularaxis": {
            "gridcolor": "#EBF0F8",
            "linecolor": "#EBF0F8",
            "ticks": ""
           },
           "bgcolor": "white",
           "radialaxis": {
            "gridcolor": "#EBF0F8",
            "linecolor": "#EBF0F8",
            "ticks": ""
           }
          },
          "scene": {
           "xaxis": {
            "backgroundcolor": "white",
            "gridcolor": "#DFE8F3",
            "gridwidth": 2,
            "linecolor": "#EBF0F8",
            "showbackground": true,
            "ticks": "",
            "zerolinecolor": "#EBF0F8"
           },
           "yaxis": {
            "backgroundcolor": "white",
            "gridcolor": "#DFE8F3",
            "gridwidth": 2,
            "linecolor": "#EBF0F8",
            "showbackground": true,
            "ticks": "",
            "zerolinecolor": "#EBF0F8"
           },
           "zaxis": {
            "backgroundcolor": "white",
            "gridcolor": "#DFE8F3",
            "gridwidth": 2,
            "linecolor": "#EBF0F8",
            "showbackground": true,
            "ticks": "",
            "zerolinecolor": "#EBF0F8"
           }
          },
          "shapedefaults": {
           "line": {
            "color": "#2a3f5f"
           }
          },
          "ternary": {
           "aaxis": {
            "gridcolor": "#DFE8F3",
            "linecolor": "#A2B1C6",
            "ticks": ""
           },
           "baxis": {
            "gridcolor": "#DFE8F3",
            "linecolor": "#A2B1C6",
            "ticks": ""
           },
           "bgcolor": "white",
           "caxis": {
            "gridcolor": "#DFE8F3",
            "linecolor": "#A2B1C6",
            "ticks": ""
           }
          },
          "title": {
           "x": 0.05
          },
          "xaxis": {
           "automargin": true,
           "gridcolor": "#EBF0F8",
           "linecolor": "#EBF0F8",
           "ticks": "",
           "title": {
            "standoff": 15
           },
           "zerolinecolor": "#EBF0F8",
           "zerolinewidth": 2
          },
          "yaxis": {
           "automargin": true,
           "gridcolor": "#EBF0F8",
           "linecolor": "#EBF0F8",
           "ticks": "",
           "title": {
            "standoff": 15
           },
           "zerolinecolor": "#EBF0F8",
           "zerolinewidth": 2
          }
         }
        },
        "title": {
         "text": "Population Exposure by Noise Band (Lden > 55 dB)",
         "x": 0.5
        },
        "xaxis": {
         "anchor": "y",
         "autorange": false,
         "domain": [
          0,
          1
         ],
         "range": [
          -0.5,
          4.5
         ],
         "title": {
          "text": "Noise Band"
         },
         "type": "category"
        },
        "yaxis": {
         "anchor": "x",
         "autorange": false,
         "domain": [
          0,
          1
         ],
         "range": [
          29.951612903225808,
          -2.048387096774194
         ],
         "title": {
          "text": "Country"
         },
         "type": "category"
        }
       }
      },
      "image/png": "[encoded data removed]"
     },
     "metadata": {},
     "output_type": "display_data"
    }
   ],
   "source": [
    "import pandas as pd\n",
    "import plotly.express as px\n",
    "\n",
    "# --- Define exposure percentage columns for heatmap ---\n",
    "heatmap_cols = [\n",
    "    \"Lden_55_59_pct\",\n",
    "    \"Lden_60_64_pct\",\n",
    "    \"Lden_65_69_pct\",\n",
    "    \"Lden_70_74_pct\",\n",
    "    \"Lden_over_75_pct\"\n",
    "]\n",
    "\n",
    "# Subset for heatmap\n",
    "heatmap_data = df_country.set_index(\"Country\")[heatmap_cols]\n",
    "\n",
    "# Rename columns for cleaner axis labels\n",
    "band_order = {\n",
    "    \"Lden_55_59_pct\": \"55–59 dB\",\n",
    "    \"Lden_60_64_pct\": \"60–64 dB\",\n",
    "    \"Lden_65_69_pct\": \"65–69 dB\",\n",
    "    \"Lden_70_74_pct\": \"70–74 dB\",\n",
    "    \"Lden_over_75_pct\": \"≥ 75 dB\"\n",
    "}\n",
    "heatmap_data = heatmap_data.rename(columns=band_order)\n",
    "\n",
    "# Format values for annotation (hide zeros, show % otherwise)\n",
    "text_values = (\n",
    "    heatmap_data.fillna(0)\n",
    "    .round(0)\n",
    "    .astype(int)\n",
    "    .applymap(lambda x: \"\" if x == 0 else f\"{x}%\")\n",
    ")\n",
    "\n",
    "# --- Plot heatmap with labels ---\n",
    "fig5 = px.imshow(\n",
    "    heatmap_data,\n",
    "    color_continuous_scale=\"Reds\",\n",
    "    aspect=\"auto\",\n",
    "    labels=dict(x=\"Noise Band\", y=\"Country\", color=\"% of Population Exposed\"),\n",
    "    text_auto=False\n",
    ")\n",
    "\n",
    "# Add annotations manually\n",
    "for i, country in enumerate(heatmap_data.index):\n",
    "    for j, band in enumerate(heatmap_data.columns):\n",
    "        value = text_values.iloc[i, j]\n",
    "        if value != \"\":\n",
    "            fig5.add_annotation(\n",
    "                x=band,\n",
    "                y=country,\n",
    "                text=value,\n",
    "                showarrow=False,\n",
    "                font=dict(color=\"black\", size=12)\n",
    "            )\n",
    "\n",
    "fig5.update_layout(\n",
    "    title=\"Population Exposure by Noise Band (Lden > 55 dB)\",\n",
    "    title_x=0.5,\n",
    "    template=\"plotly_white\",\n",
    "    margin=dict(l=40, r=40, t=60, b=40)\n",
    ")\n",
    "\n",
    "# Save as PNG (high resolution)\n",
    "fig5.write_image(\"viz5_heatmap.png\", scale=3)\n",
    "\n",
    "fig5.show()\n",
    "\n"
   ]
  },
  {
   "cell_type": "code",
   "execution_count": null,
   "id": "f7fcd840-07e3-40e3-bf19-2a6b03bb5ce4",
   "metadata": {},
   "outputs": [],
   "source": []
  }
 ],
 "metadata": {
  "kernelspec": {
   "display_name": "Python 3 (ipykernel)",
   "language": "python",
   "name": "python3"
  },
  "language_info": {
   "codemirror_mode": {
    "name": "ipython",
    "version": 3
   },
   "file_extension": ".py",
   "mimetype": "text/x-python",
   "name": "python",
   "nbconvert_exporter": "python",
   "pygments_lexer": "ipython3",
   "version": "3.12.4"
  }
 },
 "nbformat": 4,
 "nbformat_minor": 5
}
